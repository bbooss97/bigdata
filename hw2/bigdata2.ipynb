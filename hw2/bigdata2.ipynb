{
  "cells": [
    {
      "cell_type": "code",
      "execution_count": 1,
      "metadata": {
        "colab": {
          "base_uri": "https://localhost:8080/"
        },
        "id": "nnYsCCKUC0KI",
        "outputId": "6216c1a2-897f-4319-97da-d1ce19493172"
      },
      "outputs": [
        {
          "output_type": "stream",
          "name": "stdout",
          "text": [
            "Mounted at /gdrive\n"
          ]
        }
      ],
      "source": [
        "from google.colab import drive\n",
        "drive.mount('/gdrive')"
      ]
    },
    {
      "cell_type": "code",
      "execution_count": 2,
      "metadata": {
        "colab": {
          "base_uri": "https://localhost:8080/"
        },
        "id": "ManCNBMLDlH1",
        "outputId": "9036aacc-cbd1-4cd7-f00b-e1c8fb3726ae"
      },
      "outputs": [
        {
          "output_type": "stream",
          "name": "stdout",
          "text": [
            "/gdrive/MyDrive/bigdata\n"
          ]
        }
      ],
      "source": [
        "%cd ../gdrive/MyDrive/bigdata\n"
      ]
    },
    {
      "cell_type": "code",
      "execution_count": 3,
      "metadata": {
        "colab": {
          "base_uri": "https://localhost:8080/"
        },
        "id": "K1onsDZrC_hn",
        "outputId": "73376702-3faa-47f2-c44d-5ad5a30082cc"
      },
      "outputs": [
        {
          "output_type": "stream",
          "name": "stdout",
          "text": [
            "amazon-fine-food-reviews.zip  hashes.txt   Reviews.csv\tX.pkl\n",
            "database.sqlite\t\t      kaggle.json  reviews.txt\n"
          ]
        }
      ],
      "source": [
        "!ls\n"
      ]
    },
    {
      "cell_type": "code",
      "execution_count": null,
      "metadata": {
        "colab": {
          "base_uri": "https://localhost:8080/"
        },
        "id": "RFpFKOVg-saJ",
        "outputId": "c8944a54-90e8-4cfb-b6f7-c0e28adef269"
      },
      "outputs": [
        {
          "name": "stdout",
          "output_type": "stream",
          "text": [
            "Looking in indexes: https://pypi.org/simple, https://us-python.pkg.dev/colab-wheels/public/simple/\n",
            "Requirement already satisfied: pickle-mixin in /usr/local/lib/python3.7/dist-packages (1.0.2)\n"
          ]
        }
      ],
      "source": [
        "!pip install pickle-mixin --user"
      ]
    },
    {
      "cell_type": "code",
      "execution_count": null,
      "metadata": {
        "colab": {
          "base_uri": "https://localhost:8080/"
        },
        "id": "WuROvmyj-3yW",
        "outputId": "ab33b4e2-c9bf-4f2c-8e89-d96cc44e919f"
      },
      "outputs": [
        {
          "name": "stdout",
          "output_type": "stream",
          "text": [
            "Looking in indexes: https://pypi.org/simple, https://us-python.pkg.dev/colab-wheels/public/simple/\n",
            "Requirement already satisfied: scipy in /usr/local/lib/python3.7/dist-packages (1.7.3)\n",
            "Requirement already satisfied: numpy<1.23.0,>=1.16.5 in /usr/local/lib/python3.7/dist-packages (from scipy) (1.21.6)\n"
          ]
        }
      ],
      "source": [
        "!pip install scipy"
      ]
    },
    {
      "cell_type": "code",
      "execution_count": 10,
      "metadata": {
        "id": "mxLnM9Jf8p27"
      },
      "outputs": [],
      "source": [
        "import pandas as pd\n",
        "import nltk\n",
        "import re\n",
        "import string\n",
        "import random \n",
        "import numpy as np\n",
        "import pickle\n",
        "import scipy"
      ]
    },
    {
      "cell_type": "code",
      "execution_count": 4,
      "metadata": {
        "colab": {
          "base_uri": "https://localhost:8080/",
          "height": 38
        },
        "id": "4yUHnIny9qgH",
        "outputId": "b8ec9156-29a4-4b0c-a025-db4f17d145e2"
      },
      "outputs": [
        {
          "output_type": "display_data",
          "data": {
            "text/plain": [
              "<IPython.core.display.HTML object>"
            ],
            "text/html": [
              "\n",
              "     <input type=\"file\" id=\"files-45e0c5ae-7d03-4cac-8988-e7352feeebd6\" name=\"files[]\" multiple disabled\n",
              "        style=\"border:none\" />\n",
              "     <output id=\"result-45e0c5ae-7d03-4cac-8988-e7352feeebd6\">\n",
              "      Upload widget is only available when the cell has been executed in the\n",
              "      current browser session. Please rerun this cell to enable.\n",
              "      </output>\n",
              "      <script>// Copyright 2017 Google LLC\n",
              "//\n",
              "// Licensed under the Apache License, Version 2.0 (the \"License\");\n",
              "// you may not use this file except in compliance with the License.\n",
              "// You may obtain a copy of the License at\n",
              "//\n",
              "//      http://www.apache.org/licenses/LICENSE-2.0\n",
              "//\n",
              "// Unless required by applicable law or agreed to in writing, software\n",
              "// distributed under the License is distributed on an \"AS IS\" BASIS,\n",
              "// WITHOUT WARRANTIES OR CONDITIONS OF ANY KIND, either express or implied.\n",
              "// See the License for the specific language governing permissions and\n",
              "// limitations under the License.\n",
              "\n",
              "/**\n",
              " * @fileoverview Helpers for google.colab Python module.\n",
              " */\n",
              "(function(scope) {\n",
              "function span(text, styleAttributes = {}) {\n",
              "  const element = document.createElement('span');\n",
              "  element.textContent = text;\n",
              "  for (const key of Object.keys(styleAttributes)) {\n",
              "    element.style[key] = styleAttributes[key];\n",
              "  }\n",
              "  return element;\n",
              "}\n",
              "\n",
              "// Max number of bytes which will be uploaded at a time.\n",
              "const MAX_PAYLOAD_SIZE = 100 * 1024;\n",
              "\n",
              "function _uploadFiles(inputId, outputId) {\n",
              "  const steps = uploadFilesStep(inputId, outputId);\n",
              "  const outputElement = document.getElementById(outputId);\n",
              "  // Cache steps on the outputElement to make it available for the next call\n",
              "  // to uploadFilesContinue from Python.\n",
              "  outputElement.steps = steps;\n",
              "\n",
              "  return _uploadFilesContinue(outputId);\n",
              "}\n",
              "\n",
              "// This is roughly an async generator (not supported in the browser yet),\n",
              "// where there are multiple asynchronous steps and the Python side is going\n",
              "// to poll for completion of each step.\n",
              "// This uses a Promise to block the python side on completion of each step,\n",
              "// then passes the result of the previous step as the input to the next step.\n",
              "function _uploadFilesContinue(outputId) {\n",
              "  const outputElement = document.getElementById(outputId);\n",
              "  const steps = outputElement.steps;\n",
              "\n",
              "  const next = steps.next(outputElement.lastPromiseValue);\n",
              "  return Promise.resolve(next.value.promise).then((value) => {\n",
              "    // Cache the last promise value to make it available to the next\n",
              "    // step of the generator.\n",
              "    outputElement.lastPromiseValue = value;\n",
              "    return next.value.response;\n",
              "  });\n",
              "}\n",
              "\n",
              "/**\n",
              " * Generator function which is called between each async step of the upload\n",
              " * process.\n",
              " * @param {string} inputId Element ID of the input file picker element.\n",
              " * @param {string} outputId Element ID of the output display.\n",
              " * @return {!Iterable<!Object>} Iterable of next steps.\n",
              " */\n",
              "function* uploadFilesStep(inputId, outputId) {\n",
              "  const inputElement = document.getElementById(inputId);\n",
              "  inputElement.disabled = false;\n",
              "\n",
              "  const outputElement = document.getElementById(outputId);\n",
              "  outputElement.innerHTML = '';\n",
              "\n",
              "  const pickedPromise = new Promise((resolve) => {\n",
              "    inputElement.addEventListener('change', (e) => {\n",
              "      resolve(e.target.files);\n",
              "    });\n",
              "  });\n",
              "\n",
              "  const cancel = document.createElement('button');\n",
              "  inputElement.parentElement.appendChild(cancel);\n",
              "  cancel.textContent = 'Cancel upload';\n",
              "  const cancelPromise = new Promise((resolve) => {\n",
              "    cancel.onclick = () => {\n",
              "      resolve(null);\n",
              "    };\n",
              "  });\n",
              "\n",
              "  // Wait for the user to pick the files.\n",
              "  const files = yield {\n",
              "    promise: Promise.race([pickedPromise, cancelPromise]),\n",
              "    response: {\n",
              "      action: 'starting',\n",
              "    }\n",
              "  };\n",
              "\n",
              "  cancel.remove();\n",
              "\n",
              "  // Disable the input element since further picks are not allowed.\n",
              "  inputElement.disabled = true;\n",
              "\n",
              "  if (!files) {\n",
              "    return {\n",
              "      response: {\n",
              "        action: 'complete',\n",
              "      }\n",
              "    };\n",
              "  }\n",
              "\n",
              "  for (const file of files) {\n",
              "    const li = document.createElement('li');\n",
              "    li.append(span(file.name, {fontWeight: 'bold'}));\n",
              "    li.append(span(\n",
              "        `(${file.type || 'n/a'}) - ${file.size} bytes, ` +\n",
              "        `last modified: ${\n",
              "            file.lastModifiedDate ? file.lastModifiedDate.toLocaleDateString() :\n",
              "                                    'n/a'} - `));\n",
              "    const percent = span('0% done');\n",
              "    li.appendChild(percent);\n",
              "\n",
              "    outputElement.appendChild(li);\n",
              "\n",
              "    const fileDataPromise = new Promise((resolve) => {\n",
              "      const reader = new FileReader();\n",
              "      reader.onload = (e) => {\n",
              "        resolve(e.target.result);\n",
              "      };\n",
              "      reader.readAsArrayBuffer(file);\n",
              "    });\n",
              "    // Wait for the data to be ready.\n",
              "    let fileData = yield {\n",
              "      promise: fileDataPromise,\n",
              "      response: {\n",
              "        action: 'continue',\n",
              "      }\n",
              "    };\n",
              "\n",
              "    // Use a chunked sending to avoid message size limits. See b/62115660.\n",
              "    let position = 0;\n",
              "    do {\n",
              "      const length = Math.min(fileData.byteLength - position, MAX_PAYLOAD_SIZE);\n",
              "      const chunk = new Uint8Array(fileData, position, length);\n",
              "      position += length;\n",
              "\n",
              "      const base64 = btoa(String.fromCharCode.apply(null, chunk));\n",
              "      yield {\n",
              "        response: {\n",
              "          action: 'append',\n",
              "          file: file.name,\n",
              "          data: base64,\n",
              "        },\n",
              "      };\n",
              "\n",
              "      let percentDone = fileData.byteLength === 0 ?\n",
              "          100 :\n",
              "          Math.round((position / fileData.byteLength) * 100);\n",
              "      percent.textContent = `${percentDone}% done`;\n",
              "\n",
              "    } while (position < fileData.byteLength);\n",
              "  }\n",
              "\n",
              "  // All done.\n",
              "  yield {\n",
              "    response: {\n",
              "      action: 'complete',\n",
              "    }\n",
              "  };\n",
              "}\n",
              "\n",
              "scope.google = scope.google || {};\n",
              "scope.google.colab = scope.google.colab || {};\n",
              "scope.google.colab._files = {\n",
              "  _uploadFiles,\n",
              "  _uploadFilesContinue,\n",
              "};\n",
              "})(self);\n",
              "</script> "
            ]
          },
          "metadata": {}
        }
      ],
      "source": [
        "from google.colab import files\n",
        "\n",
        "uploaded = files.upload()"
      ]
    },
    {
      "cell_type": "code",
      "execution_count": null,
      "metadata": {
        "id": "Umah44d798wk"
      },
      "outputs": [],
      "source": [
        "import os\n",
        "os.environ['KAGGLE_CONFIG_DIR'] = \"/content\""
      ]
    },
    {
      "cell_type": "code",
      "execution_count": null,
      "metadata": {
        "id": "vPPRCuE7-PkN"
      },
      "outputs": [],
      "source": [
        "!chmod 600 /content/kaggle.json"
      ]
    },
    {
      "cell_type": "code",
      "execution_count": null,
      "metadata": {
        "colab": {
          "base_uri": "https://localhost:8080/"
        },
        "id": "M-15ztg1-Ag3",
        "outputId": "b9c425a4-1873-4835-e1c3-b89d4ad5eeed"
      },
      "outputs": [
        {
          "name": "stdout",
          "output_type": "stream",
          "text": [
            "Warning: Your Kaggle API key is readable by other users on this system! To fix this, you can run 'chmod 600 /content/kaggle.json'\n",
            "Downloading amazon-fine-food-reviews.zip to /gdrive/MyDrive/bigdata\n",
            " 98% 238M/242M [00:01<00:00, 193MB/s]\n",
            "100% 242M/242M [00:01<00:00, 179MB/s]\n"
          ]
        }
      ],
      "source": [
        "!kaggle datasets download -d snap/amazon-fine-food-reviews"
      ]
    },
    {
      "cell_type": "code",
      "execution_count": null,
      "metadata": {
        "colab": {
          "base_uri": "https://localhost:8080/"
        },
        "id": "4HRs1uPc-Ejc",
        "outputId": "e9662d0e-1851-483c-f35e-2cb0e5dbea51"
      },
      "outputs": [
        {
          "name": "stdout",
          "output_type": "stream",
          "text": [
            "amazon-fine-food-reviews.zip  kaggle.json  reviews.txt\tX.pkl\n"
          ]
        }
      ],
      "source": [
        "!ls"
      ]
    },
    {
      "cell_type": "code",
      "execution_count": null,
      "metadata": {
        "id": "Y4hipK86-IKc"
      },
      "outputs": [],
      "source": [
        "from zipfile import ZipFile"
      ]
    },
    {
      "cell_type": "code",
      "execution_count": null,
      "metadata": {
        "id": "fIWJMzFd_YcW"
      },
      "outputs": [],
      "source": [
        "# Create a ZipFile Object and load sample.zip in it\n",
        "with ZipFile('amazon-fine-food-reviews.zip', 'r') as zipObj:\n",
        "   # Extract all the contents of zip file in current directory\n",
        "   zipObj.extractall()"
      ]
    },
    {
      "cell_type": "code",
      "execution_count": null,
      "metadata": {
        "colab": {
          "base_uri": "https://localhost:8080/"
        },
        "id": "ZM7yilBK8p3B",
        "outputId": "36a2cc5a-800b-4c7d-9b96-0da7d0c7a821"
      },
      "outputs": [
        {
          "name": "stderr",
          "output_type": "stream",
          "text": [
            "[nltk_data] Downloading package stopwords to /root/nltk_data...\n",
            "[nltk_data]   Package stopwords is already up-to-date!\n",
            "[nltk_data] Downloading package wordnet to /root/nltk_data...\n",
            "[nltk_data]   Package wordnet is already up-to-date!\n",
            "[nltk_data] Downloading package punkt to /root/nltk_data...\n",
            "[nltk_data]   Package punkt is already up-to-date!\n",
            "[nltk_data] Downloading package omw-1.4 to /root/nltk_data...\n",
            "[nltk_data]   Package omw-1.4 is already up-to-date!\n"
          ]
        }
      ],
      "source": [
        "#import nltk\n",
        "\n",
        "nltk.download('stopwords')\n",
        "nltk.download('wordnet')\n",
        "nltk.download('punkt')\n",
        "nltk.download('omw-1.4')\n",
        "\n",
        "from nltk.tokenize import word_tokenize #Used to extract words from documents\n",
        "from nltk.stem import WordNetLemmatizer #Used to lemmatize words\n",
        "\n",
        "#import tfidfVectorizer\n",
        "from sklearn.feature_extraction.text import TfidfVectorizer"
      ]
    },
    {
      "cell_type": "code",
      "execution_count": null,
      "metadata": {
        "colab": {
          "base_uri": "https://localhost:8080/"
        },
        "id": "sQOQSTAD_jRP",
        "outputId": "187964b6-01af-4e78-b9ba-890c95ad8ef9"
      },
      "outputs": [
        {
          "name": "stdout",
          "output_type": "stream",
          "text": [
            "amazon-fine-food-reviews.zip  hashes.txt   Reviews.csv\tX.pkl\n",
            "database.sqlite\t\t      kaggle.json  reviews.txt\n"
          ]
        }
      ],
      "source": [
        "!ls"
      ]
    },
    {
      "cell_type": "code",
      "execution_count": null,
      "metadata": {
        "id": "xKorWFxQ8p3D"
      },
      "outputs": [],
      "source": [
        "\n",
        "#read data from csv and get the reviews\n",
        "df = pd.read_csv('Reviews.csv')\n",
        "reviews=df[\"Text\"].tolist()\n",
        "#shuffle to later divide in test and training without bias\n",
        "random.shuffle(reviews)"
      ]
    },
    {
      "cell_type": "code",
      "execution_count": null,
      "metadata": {
        "id": "dNio9OcW8p3E"
      },
      "outputs": [],
      "source": [
        "#preprocess the reviews\n",
        "contractions_dict = {\n",
        "  \"ain't\": \"am not\",\n",
        "  \"aren't\": \"are not\",\n",
        "  \"can't\": \"cannot\",\n",
        "  \"can't've\": \"cannot have\",\n",
        "  \"'cause\": \"because\",\n",
        "  \"could've\": \"could have\",\n",
        "  \"couldn't\": \"could not\",\n",
        "  \"couldn't've\": \"could not have\",\n",
        "  \"didn't\": \"did not\",\n",
        "  \"doesn't\": \"does not\",\n",
        "  \"don't\": \"do not\",\n",
        "  \"hadn't\": \"had not\",\n",
        "  \"hadn't've\": \"had not have\",\n",
        "  \"hasn't\": \"has not\",\n",
        "  \"haven't\": \"have not\",\n",
        "  \"he'd\": \"he would\",\n",
        "  \"he'd've\": \"he would have\",\n",
        "  \"he'll\": \"he will\",\n",
        "  \"he'll've\": \"he will have\",\n",
        "  \"he's\": \"he is\",\n",
        "  \"how'd\": \"how did\",\n",
        "  \"how'd'y\": \"how do you\",\n",
        "  \"how'll\": \"how will\",\n",
        "  \"how's\": \"how is\",\n",
        "  \"i'd\": \"I would\",\n",
        "  \"i'd've\": \"I would have\",\n",
        "  \"i'll\": \"I will\",\n",
        "  \"i'll've\": \"I will have\",\n",
        "  \"i'm\": \"I am\",\n",
        "  \"i've\": \"I have\",\n",
        "  \"isn't\": \"is not\",\n",
        "  \"it'd\": \"it had\",\n",
        "  \"it'd've\": \"it would have\",\n",
        "  \"it'll\": \"it will\",\n",
        "  \"it'll've\": \"it will have\",\n",
        "  \"it's\": \"it is\",\n",
        "  \"let's\": \"let us\",\n",
        "  \"ma'am\": \"madam\",\n",
        "  \"mayn't\": \"may not\",\n",
        "  \"might've\": \"might have\",\n",
        "  \"mightn't\": \"might not\",\n",
        "  \"mightn't've\": \"might not have\",\n",
        "  \"must've\": \"must have\",\n",
        "  \"mustn't\": \"must not\",\n",
        "  \"mustn't've\": \"must not have\",\n",
        "  \"needn't\": \"need not\",\n",
        "  \"needn't've\": \"need not have\",\n",
        "  \"o'clock\": \"of the clock\",\n",
        "  \"oughtn't\": \"ought not\",\n",
        "  \"oughtn't've\": \"ought not have\",\n",
        "  \"shan't\": \"shall not\",\n",
        "  \"sha'n't\": \"shall not\",\n",
        "  \"shan't've\": \"shall not have\",\n",
        "  \"she'd\": \"she would\",\n",
        "  \"she'd've\": \"she would have\",\n",
        "  \"she'll\": \"she will\",\n",
        "  \"she'll've\": \"she will have\",\n",
        "  \"she's\": \"she is\",\n",
        "  \"should've\": \"should have\",\n",
        "  \"shouldn't\": \"should not\",\n",
        "  \"shouldn't've\": \"should not have\",\n",
        "  \"so've\": \"so have\",\n",
        "  \"so's\": \"so is\",\n",
        "  \"that'd\": \"that would\",\n",
        "  \"that'd've\": \"that would have\",\n",
        "  \"that's\": \"that is\",\n",
        "  \"there'd\": \"there had\",\n",
        "  \"there'd've\": \"there would have\",\n",
        "  \"there's\": \"there is\",\n",
        "  \"they'd\": \"they would\",\n",
        "  \"they'd've\": \"they would have\",\n",
        "  \"they'll\": \"they will\",\n",
        "  \"they'll've\": \"they will have\",\n",
        "  \"they're\": \"they are\",\n",
        "  \"they've\": \"they have\",\n",
        "  \"to've\": \"to have\",\n",
        "  \"wasn't\": \"was not\",\n",
        "  \"we'd\": \"we had\",\n",
        "  \"we'd've\": \"we would have\",\n",
        "  \"we'll\": \"we will\",\n",
        "  \"we'll've\": \"we will have\",\n",
        "  \"we're\": \"we are\",\n",
        "  \"we've\": \"we have\",\n",
        "  \"weren't\": \"were not\",\n",
        "  \"what'll\": \"what will\",\n",
        "  \"what'll've\": \"what will have\",\n",
        "  \"what're\": \"what are\",\n",
        "  \"what's\": \"what is\",\n",
        "  \"what've\": \"what have\",\n",
        "  \"when's\": \"when is\",\n",
        "  \"when've\": \"when have\",\n",
        "  \"where'd\": \"where did\",\n",
        "  \"where's\": \"where is\",\n",
        "  \"where've\": \"where have\",\n",
        "  \"who'll\": \"who will\",\n",
        "  \"who'll've\": \"who will have\",\n",
        "  \"who's\": \"who is\",\n",
        "  \"who've\": \"who have\",\n",
        "  \"why's\": \"why is\",\n",
        "  \"why've\": \"why have\",\n",
        "  \"will've\": \"will have\",\n",
        "  \"won't\": \"will not\",\n",
        "  \"won't've\": \"will not have\",\n",
        "  \"would've\": \"would have\",\n",
        "  \"wouldn't\": \"would not\",\n",
        "  \"wouldn't've\": \"would not have\",\n",
        "  \"y'all\": \"you all\",\n",
        "  \"y'alls\": \"you alls\",\n",
        "  \"y'all'd\": \"you all would\",\n",
        "  \"y'all'd've\": \"you all would have\",\n",
        "  \"y'all're\": \"you all are\",\n",
        "  \"y'all've\": \"you all have\",\n",
        "  \"you'd\": \"you had\",\n",
        "  \"you'd've\": \"you would have\",\n",
        "  \"you'll\": \"you will\",\n",
        "  \"you'll've\": \"you will have\",\n",
        "  \"you're\": \"you are\",\n",
        "  \"you've\": \"you have\"\n",
        "}\n",
        "\n",
        "# Regular expression for finding contractions\n",
        "def multiple_replace(dict, text):\n",
        "  # Create a regular expression  from the dictionary keys\n",
        "  regex = re.compile(\"(%s)\" % \"|\".join(map(re.escape, dict.keys())))\n",
        "\n",
        "  # For each match, look-up corresponding value in dictionary\n",
        "  return regex.sub(lambda mo: dict[mo.string[mo.start():mo.end()]], text)\n",
        "\n",
        "reviews = [multiple_replace(contractions_dict, doc) for doc in reviews]\n",
        "table = str.maketrans('', '', string.punctuation)\n",
        "reviews = [doc.translate(table) for doc in reviews]\n",
        "reviews = [re.sub(r'\\d+', \" \", doc) for doc in reviews]"
      ]
    },
    {
      "cell_type": "code",
      "execution_count": null,
      "metadata": {
        "id": "EhBBLErx8p3G"
      },
      "outputs": [],
      "source": [
        "def get_lemmatized(doc):\n",
        "  word_list = word_tokenize(doc)\n",
        "  lemmatized_doc = \"\"\n",
        "  for word in word_list:\n",
        "    lemmatized_doc = lemmatized_doc + \" \" + lemmatizer.lemmatize(word)\n",
        "  return lemmatized_doc\n",
        "\n",
        "lemmatizer = WordNetLemmatizer()\n",
        "\n",
        "reviews = [get_lemmatized(doc) for doc in reviews]"
      ]
    },
    {
      "cell_type": "code",
      "execution_count": null,
      "metadata": {
        "id": "YdaBWCJF8p3H"
      },
      "outputs": [],
      "source": [
        "stopwords = nltk.corpus.stopwords.words('english') # Returns a list\n",
        "stopwords = set(stopwords) # We want a set, because this is implemented with a hash table\n",
        "                           # Checking the if condition in rem_stop costs O(1) in this way\n",
        "\n",
        "def rem_stop(doc):\n",
        "   word_list = word_tokenize(doc)\n",
        "   cleaned_doc = \"\"\n",
        "   for word in word_list:\n",
        "     if word not in stopwords:\n",
        "       cleaned_doc += \" \" + word\n",
        "   return cleaned_doc\n",
        "\n",
        "\n",
        "reviews = [rem_stop(doc) for doc in reviews]"
      ]
    },
    {
      "cell_type": "code",
      "execution_count": null,
      "metadata": {
        "id": "NpDDu1lr8p3I"
      },
      "outputs": [],
      "source": [
        "vectorizer = TfidfVectorizer(stop_words='english', min_df=10) ## Corpus is in English\n",
        "X = vectorizer.fit_transform(reviews)"
      ]
    },
    {
      "cell_type": "code",
      "execution_count": null,
      "metadata": {
        "id": "U3pFcXKq8p3J"
      },
      "outputs": [],
      "source": [
        "# #write reviews to file\n",
        "with open('reviews.txt', 'w',encoding='utf8') as f:\n",
        "    for item in reviews:\n",
        "        f.write(item+\",\")"
      ]
    },
    {
      "cell_type": "code",
      "execution_count": null,
      "metadata": {
        "id": "fiUUpBaf8p3J"
      },
      "outputs": [],
      "source": [
        "import pickle\n",
        "#write x to file\n",
        "with open('X.pkl', 'wb') as f:\n",
        "\tpickle.dump(X, f)\n",
        "\n",
        "# read obj from file\n",
        "with open('X.pkl', 'rb') as f:\n",
        "\tobj = pickle.load(f)"
      ]
    },
    {
      "cell_type": "code",
      "execution_count": 5,
      "metadata": {
        "id": "Tn7dSd-P8p3L"
      },
      "outputs": [],
      "source": [
        "import pickle\n",
        "#read reviews from file\n",
        "with open('reviews.txt', 'r',encoding='utf8') as f:\n",
        "    reviews = f.read().split(\",\")\n",
        "    reviews = reviews[:-1]\n",
        "\n",
        "#read X from file\n",
        "with open('X.pkl', 'rb') as f:\n",
        "    X = pickle.load(f)\n",
        "\n",
        "rows,cols=X.shape"
      ]
    },
    {
      "cell_type": "code",
      "execution_count": 6,
      "metadata": {
        "colab": {
          "base_uri": "https://localhost:8080/"
        },
        "id": "a_3goAj88p3L",
        "outputId": "71f85323-6ce4-41b1-fda8-62e070c8d1a2"
      },
      "outputs": [
        {
          "output_type": "execute_result",
          "data": {
            "text/plain": [
              "(5684, 33897)"
            ]
          },
          "metadata": {},
          "execution_count": 6
        }
      ],
      "source": [
        "percentage=0.01\n",
        "reviews=reviews[:int(len(reviews)*percentage)]\n",
        "X=X[:int(X.shape[0]*percentage)]\n",
        "X.shape\n"
      ]
    },
    {
      "cell_type": "code",
      "execution_count": 7,
      "metadata": {
        "id": "X3P3-1p18p3M"
      },
      "outputs": [],
      "source": [
        "class Operations: \n",
        "\n",
        "    def generateU():\n",
        "        u=np.random.normal(0,1,cols)\n",
        "        u=scipy.sparse.csr_matrix(u)\n",
        "        return u\n",
        "\n",
        "    def sparseProduct(x,y):\n",
        "        return x.dot(y.transpose()).toarray()[0][0]\n",
        "\n",
        "    def h(x,u):\n",
        "        return np.sign(Operations.sparseProduct(x,u))\n",
        "\n",
        "    def cosineSimilarity(x,y):\n",
        "        r=Operations.sparseProduct(x,y)/(np.linalg.norm(x.toarray())*np.linalg.norm(y.toarray()))\n",
        "        return r\n",
        "\n",
        "    def jaccardSimilarity(x,y):\n",
        "        intersection=len(x.intersection(y))\n",
        "        union=len(x.union(y))\n",
        "        return intersection/union\n",
        "\n",
        "\n",
        "\n"
      ]
    },
    {
      "cell_type": "code",
      "execution_count": 11,
      "metadata": {
        "id": "QC8HNHma8p3N"
      },
      "outputs": [],
      "source": [
        "class Hash:\n",
        "\n",
        "    def __init__(self,nBytes=50,inputDimension=10):\n",
        "        self.nBytes=nBytes\n",
        "        self.inputDimension=inputDimension\n",
        "        self.reset()\n",
        "    \n",
        "    def reset(self):\n",
        "        self.matrix=np.random.randn(self.nBytes,self.inputDimension)\n",
        "\n",
        "    def generateHash(self,input):\n",
        "        if type(input)==list:\n",
        "            input=np.array(input)\n",
        "        bools = (np.dot(input, self.matrix.T) > 0).astype('int')\n",
        "        return ''.join(bools.astype('str'))\n",
        "h=Hash()\n"
      ]
    },
    {
      "cell_type": "code",
      "execution_count": 12,
      "metadata": {
        "colab": {
          "base_uri": "https://localhost:8080/",
          "height": 35
        },
        "id": "tz7w65JG8p3O",
        "outputId": "7e543281-12bb-4e46-a6cf-06b6e4da6919"
      },
      "outputs": [
        {
          "output_type": "execute_result",
          "data": {
            "text/plain": [
              "'01111000010011100011001000111101111011101011001011'"
            ],
            "application/vnd.google.colaboratory.intrinsic+json": {
              "type": "string"
            }
          },
          "metadata": {},
          "execution_count": 12
        }
      ],
      "source": [
        "h.generateHash(np.ones(10))"
      ]
    },
    {
      "cell_type": "code",
      "execution_count": 23,
      "metadata": {
        "id": "1X0ld-_b8p3P"
      },
      "outputs": [],
      "source": [
        "\n",
        "class Lsh:\n",
        "\n",
        "    def __init__(self,X,reviews,b=10,r=10,testPercentage=0.005,nHashes=100):\n",
        "        self.X=X\n",
        "        self.reviews=reviews\n",
        "        self.rows=X.shape[0]\n",
        "        self.cols=X.shape[1]\n",
        "        self.b=b\n",
        "        self.r=r\n",
        "        self.testPercentage=testPercentage\n",
        "        self.nHashes=nHashes\n",
        "        self.splitDataset()\n",
        "\n",
        "    def setBR(self,b,r):\n",
        "        self.b=b\n",
        "        self.r=r\n",
        "        \n",
        "    def splitDataset(self):\n",
        "        indexSplit=int(self.rows*self.testPercentage)\n",
        "        self.testReviews,self.trainReviews=self.reviews[:indexSplit],self.reviews[indexSplit:]\n",
        "        self.testX,self.trainX=self.X[:indexSplit],self.X[indexSplit:]\n",
        "        self.rowsTest,self.colsTest=self.testX.shape\n",
        "        self.rowsTrain,self.colsTrain=self.trainX.shape\n",
        "\n",
        "    def generateM(self,):\n",
        "        self.mTest=[[]for i in range(self.rowsTest)]\n",
        "        self.mTrain=[[]for i in range(self.rowsTrain)]\n",
        "        for i in range(self.nHashes):\n",
        "            u=Operations.generateU()\n",
        "            for j in range(self.rowsTest):\n",
        "                h=Operations.h(self.testX[j],u)\n",
        "                self.mTest[j].append(h)\n",
        "            for j in range(self.rowsTrain):\n",
        "                h=Operations.h(self.trainX[j],u)\n",
        "                self.mTrain[j].append(h)\n",
        "\n",
        "    def lsh(self):\n",
        "        self.dicts=[{} for i in range(self.b)]\n",
        "        self.hashesUsed=[Hash(inputDimension=self.r) for i in range(self.b)]\n",
        "        for i in range(self.b):\n",
        "            for j in range(self.rowsTrain):\n",
        "                # print(i,j)\n",
        "                v=self.mTrain[j][i*self.r:(i+1)*self.r]\n",
        "                key=self.hashesUsed[i].generateHash(v)\n",
        "                if key not in self.dicts[i]:\n",
        "                    self.dicts[i][key]=set()\n",
        "                self.dicts[i][key].add(j)\n",
        "\n",
        "    def findExactCosineSimilars(self,threshold=0.5):\n",
        "        self.exactSimilars={}\n",
        "        for i,v in enumerate(self.testX):\n",
        "            for j,u in enumerate(self.trainX):\n",
        "                r=Operations.cosineSimilarity(v,u)\n",
        "                if r>=threshold:\n",
        "                    if i not in self.exactSimilars:\n",
        "                        self.exactSimilars[i]=set()\n",
        "                    self.exactSimilars[i].add(j)\n",
        "        return self.exactSimilars\n",
        "\n",
        "\n",
        "    def findCosineSimilarsApproximated(self):\n",
        "        self.approximatedSimilars={}\n",
        "        for i,v in enumerate(self.mTest):\n",
        "            for j,hash in enumerate(self.hashesUsed):\n",
        "                key=hash.generateHash(v[j*self.r:(j+1)*self.r])\n",
        "                if key in self.dicts[j]:\n",
        "                    for k in self.dicts[j][key]:\n",
        "                        if i not in self.approximatedSimilars:\n",
        "                            self.approximatedSimilars[i]=set()\n",
        "                        self.approximatedSimilars[i].add(k)\n",
        "        return self.approximatedSimilars\n",
        "    \n",
        "    def jaccardAB(self):\n",
        "        self.A=set()\n",
        "        self.B=set()\n",
        "        for i in self.exactSimilars:\n",
        "            for j in self.exactSimilars[i]:\n",
        "                self.A.add((i,j))\n",
        "        for i in self.approximatedSimilars:\n",
        "            for j in self.approximatedSimilars[i]:\n",
        "                self.B.add((i,j))\n",
        "        return Operations.jaccardSimilarity(self.A,self.B)\n",
        "\n",
        "    def optimizeRB(self,cosineSimilarity=0.2,nHashes=10):\n",
        "      self.findExactCosineSimilars(cosineSimilarity)\n",
        "      self.nHashes=nHashes\n",
        "      \n",
        "      lsh.generateM()\n",
        "\n",
        "      #automatic search for b and r\n",
        "      maxJaccard=0\n",
        "      maxR=0\n",
        "      maxB=0\n",
        "      for i in range(1,int(lsh.nHashes**0.5)):\n",
        "        lsh.r=i\n",
        "        lsh.b=int(lsh.nHashes/i)\n",
        "        lsh.lsh()\n",
        "        b=lsh.findCosineSimilarsApproximated()\n",
        "        jacc=lsh.jaccardAB()\n",
        "        if jacc>maxJaccard:\n",
        "          maxJaccard=jacc\n",
        "          maxR=lsh.r\n",
        "          maxB=lsh.b\n",
        "        lsh.b=i\n",
        "        lsh.r=int(lsh.nHashes/i)\n",
        "        lsh.lsh()\n",
        "        b=lsh.findCosineSimilarsApproximated()\n",
        "        jacc=lsh.jaccardAB()\n",
        "        if jacc>maxJaccard:\n",
        "          maxJaccard=jacc\n",
        "          maxR=lsh.r\n",
        "          maxB=lsh.b\n",
        "\n",
        "      print([maxJaccard,maxR,maxB])\n",
        "      self.r=maxR\n",
        "      self.b=maxB\n",
        "      return [maxJaccard,maxR,maxB]\n",
        "\n",
        "\n",
        "  \n",
        "\n"
      ]
    },
    {
      "cell_type": "code",
      "execution_count": null,
      "metadata": {
        "colab": {
          "base_uri": "https://localhost:8080/"
        },
        "id": "PTgnEYSp8p3Q",
        "outputId": "9694c379-8c1e-4f14-ce1c-db8c77f2b847"
      },
      "outputs": [
        {
          "data": {
            "text/plain": [
              "(5684, 33897)"
            ]
          },
          "execution_count": 14,
          "metadata": {},
          "output_type": "execute_result"
        }
      ],
      "source": [
        "X.shape\n"
      ]
    },
    {
      "cell_type": "code",
      "execution_count": 24,
      "metadata": {
        "id": "vZKzD13u8p3Q"
      },
      "outputs": [],
      "source": [
        "lsh=Lsh(X,reviews,nHashes=200,r=2,b=50)\n"
      ]
    },
    {
      "cell_type": "code",
      "execution_count": null,
      "metadata": {
        "colab": {
          "base_uri": "https://localhost:8080/"
        },
        "id": "ISsEnDWn8p3R",
        "outputId": "a9fe0eec-42d2-4935-8ba7-b00989ab2a13"
      },
      "outputs": [
        {
          "data": {
            "text/plain": [
              "(28, 33897)"
            ]
          },
          "execution_count": 139,
          "metadata": {},
          "output_type": "execute_result"
        }
      ],
      "source": [
        "lsh.testX.shape"
      ]
    },
    {
      "cell_type": "code",
      "execution_count": null,
      "metadata": {
        "colab": {
          "base_uri": "https://localhost:8080/"
        },
        "id": "_3kSv85iDQ6-",
        "outputId": "1b548d09-e92a-4042-8bfb-bb9ce3613ff7"
      },
      "outputs": [
        {
          "data": {
            "text/plain": [
              "0.6309898804344547"
            ]
          },
          "execution_count": 121,
          "metadata": {},
          "output_type": "execute_result"
        }
      ],
      "source": [
        "fromsim=0.4\n",
        "top=1-np.arccos(fromsim)/np.pi\n",
        "top"
      ]
    },
    {
      "cell_type": "code",
      "execution_count": null,
      "metadata": {
        "colab": {
          "base_uri": "https://localhost:8080/"
        },
        "id": "QCvzYEM4DmW0",
        "outputId": "36f19674-51bc-4318-8756-c3e6a09c3cab"
      },
      "outputs": [
        {
          "data": {
            "text/plain": [
              "-0.30901699437494734"
            ]
          },
          "execution_count": 119,
          "metadata": {},
          "output_type": "execute_result"
        }
      ],
      "source": [
        "fromp=0.4\n",
        "tosim=np.cos((1-fromp)*np.pi)\n",
        "tosim"
      ]
    },
    {
      "cell_type": "code",
      "execution_count": null,
      "metadata": {
        "colab": {
          "base_uri": "https://localhost:8080/"
        },
        "id": "0FY40KOn8p3R",
        "outputId": "61f5d5ec-adc2-45bd-b280-7d0b3d33b99f"
      },
      "outputs": [
        {
          "data": {
            "text/plain": [
              "{1: {51, 93, 470, 3811, 4143, 4307},\n",
              " 3: {1050},\n",
              " 5: {4955},\n",
              " 6: {4924},\n",
              " 7: {4599},\n",
              " 11: {289, 973, 2485, 3468, 3600, 4064, 4636, 4898},\n",
              " 17: {3513},\n",
              " 18: {302, 928, 1665, 2939, 3252, 3446, 3723, 4195, 4901},\n",
              " 20: {1551, 1611, 3020, 3184, 4227},\n",
              " 21: {619, 1721, 2703, 2982, 3172},\n",
              " 25: {3103}}"
            ]
          },
          "execution_count": 56,
          "metadata": {},
          "output_type": "execute_result"
        }
      ],
      "source": [
        "a=lsh.findExactCosineSimilars(0.3)\n",
        "a"
      ]
    },
    {
      "cell_type": "code",
      "execution_count": null,
      "metadata": {
        "id": "miEi6zh-QIWo"
      },
      "outputs": [],
      "source": [
        "lsh.exactSimilars=a"
      ]
    },
    {
      "cell_type": "code",
      "execution_count": null,
      "metadata": {
        "id": "ScPPiEHI8p3S"
      },
      "outputs": [],
      "source": [
        "lsh.generateM()"
      ]
    },
    {
      "cell_type": "code",
      "execution_count": null,
      "metadata": {
        "id": "KsgJ6AFw8p3S"
      },
      "outputs": [],
      "source": [
        "mTest=lsh.mTest\n",
        "mTrain=lsh.mTrain\n"
      ]
    },
    {
      "cell_type": "code",
      "execution_count": 22,
      "metadata": {
        "id": "HTqm0trc8p3T",
        "colab": {
          "base_uri": "https://localhost:8080/",
          "height": 200
        },
        "outputId": "5e0c397f-bb59-4ded-afdc-cf50c01aac15"
      },
      "outputs": [
        {
          "output_type": "error",
          "ename": "NameError",
          "evalue": "ignored",
          "traceback": [
            "\u001b[0;31m---------------------------------------------------------------------------\u001b[0m",
            "\u001b[0;31mNameError\u001b[0m                                 Traceback (most recent call last)",
            "\u001b[0;32m<ipython-input-22-3d94d1e90f49>\u001b[0m in \u001b[0;36m<module>\u001b[0;34m\u001b[0m\n\u001b[0;32m----> 1\u001b[0;31m \u001b[0mlsh\u001b[0m\u001b[0;34m.\u001b[0m\u001b[0mmTest\u001b[0m\u001b[0;34m=\u001b[0m\u001b[0mmTest\u001b[0m\u001b[0;34m\u001b[0m\u001b[0;34m\u001b[0m\u001b[0m\n\u001b[0m\u001b[1;32m      2\u001b[0m \u001b[0mlsh\u001b[0m\u001b[0;34m.\u001b[0m\u001b[0mmTrain\u001b[0m\u001b[0;34m=\u001b[0m\u001b[0mmTrain\u001b[0m\u001b[0;34m\u001b[0m\u001b[0;34m\u001b[0m\u001b[0m\n\u001b[1;32m      3\u001b[0m \u001b[0mlen\u001b[0m\u001b[0;34m(\u001b[0m\u001b[0mlsh\u001b[0m\u001b[0;34m.\u001b[0m\u001b[0mmTest\u001b[0m\u001b[0;34m[\u001b[0m\u001b[0;36m0\u001b[0m\u001b[0;34m]\u001b[0m\u001b[0;34m)\u001b[0m\u001b[0;34m\u001b[0m\u001b[0;34m\u001b[0m\u001b[0m\n",
            "\u001b[0;31mNameError\u001b[0m: name 'mTest' is not defined"
          ]
        }
      ],
      "source": [
        "lsh.mTest=mTest\n",
        "lsh.mTrain=mTrain\n",
        "len(lsh.mTest[0])"
      ]
    },
    {
      "cell_type": "code",
      "execution_count": null,
      "metadata": {
        "colab": {
          "base_uri": "https://localhost:8080/",
          "height": 287
        },
        "id": "oQiMQQ0X8p3T",
        "outputId": "277f92dc-1c63-454a-e88b-4d424537e2f1"
      },
      "outputs": [
        {
          "ename": "TypeError",
          "evalue": "ignored",
          "output_type": "error",
          "traceback": [
            "\u001b[0;31m---------------------------------------------------------------------------\u001b[0m",
            "\u001b[0;31mTypeError\u001b[0m                                 Traceback (most recent call last)",
            "\u001b[0;32m<ipython-input-171-66310432a894>\u001b[0m in \u001b[0;36m<module>\u001b[0;34m\u001b[0m\n\u001b[0;32m----> 1\u001b[0;31m \u001b[0mlsh\u001b[0m\u001b[0;34m.\u001b[0m\u001b[0mlsh\u001b[0m\u001b[0;34m(\u001b[0m\u001b[0;34m)\u001b[0m\u001b[0;34m\u001b[0m\u001b[0;34m\u001b[0m\u001b[0m\n\u001b[0m",
            "\u001b[0;32m<ipython-input-160-9f22965b647a>\u001b[0m in \u001b[0;36mlsh\u001b[0;34m(self)\u001b[0m\n\u001b[1;32m     38\u001b[0m \u001b[0;34m\u001b[0m\u001b[0m\n\u001b[1;32m     39\u001b[0m     \u001b[0;32mdef\u001b[0m \u001b[0mlsh\u001b[0m\u001b[0;34m(\u001b[0m\u001b[0mself\u001b[0m\u001b[0;34m)\u001b[0m\u001b[0;34m:\u001b[0m\u001b[0;34m\u001b[0m\u001b[0;34m\u001b[0m\u001b[0m\n\u001b[0;32m---> 40\u001b[0;31m         \u001b[0mself\u001b[0m\u001b[0;34m.\u001b[0m\u001b[0mdicts\u001b[0m\u001b[0;34m=\u001b[0m\u001b[0;34m[\u001b[0m\u001b[0;34m{\u001b[0m\u001b[0;34m}\u001b[0m \u001b[0;32mfor\u001b[0m \u001b[0mi\u001b[0m \u001b[0;32min\u001b[0m \u001b[0mrange\u001b[0m\u001b[0;34m(\u001b[0m\u001b[0mself\u001b[0m\u001b[0;34m.\u001b[0m\u001b[0mb\u001b[0m\u001b[0;34m)\u001b[0m\u001b[0;34m]\u001b[0m\u001b[0;34m\u001b[0m\u001b[0;34m\u001b[0m\u001b[0m\n\u001b[0m\u001b[1;32m     41\u001b[0m         \u001b[0mself\u001b[0m\u001b[0;34m.\u001b[0m\u001b[0mhashesUsed\u001b[0m\u001b[0;34m=\u001b[0m\u001b[0;34m[\u001b[0m\u001b[0mHash\u001b[0m\u001b[0;34m(\u001b[0m\u001b[0minputDimension\u001b[0m\u001b[0;34m=\u001b[0m\u001b[0mself\u001b[0m\u001b[0;34m.\u001b[0m\u001b[0mr\u001b[0m\u001b[0;34m)\u001b[0m \u001b[0;32mfor\u001b[0m \u001b[0mi\u001b[0m \u001b[0;32min\u001b[0m \u001b[0mrange\u001b[0m\u001b[0;34m(\u001b[0m\u001b[0mself\u001b[0m\u001b[0;34m.\u001b[0m\u001b[0mb\u001b[0m\u001b[0;34m)\u001b[0m\u001b[0;34m]\u001b[0m\u001b[0;34m\u001b[0m\u001b[0;34m\u001b[0m\u001b[0m\n\u001b[1;32m     42\u001b[0m         \u001b[0;32mfor\u001b[0m \u001b[0mi\u001b[0m \u001b[0;32min\u001b[0m \u001b[0mrange\u001b[0m\u001b[0;34m(\u001b[0m\u001b[0mself\u001b[0m\u001b[0;34m.\u001b[0m\u001b[0mb\u001b[0m\u001b[0;34m)\u001b[0m\u001b[0;34m:\u001b[0m\u001b[0;34m\u001b[0m\u001b[0;34m\u001b[0m\u001b[0m\n",
            "\u001b[0;31mTypeError\u001b[0m: 'set' object cannot be interpreted as an integer"
          ]
        }
      ],
      "source": [
        "lsh.lsh()"
      ]
    },
    {
      "cell_type": "code",
      "execution_count": null,
      "metadata": {
        "id": "KOTnoNAo8p3T"
      },
      "outputs": [],
      "source": [
        "lsh.r=5\n",
        "lsh.b=20\n",
        "\n",
        "lsh.lsh()\n",
        "b=lsh.findCosineSimilarsApproximated(0.125)\n"
      ]
    },
    {
      "cell_type": "code",
      "execution_count": 16,
      "metadata": {
        "id": "N1ZoDhSfxq-Q",
        "colab": {
          "base_uri": "https://localhost:8080/",
          "height": 356
        },
        "outputId": "90b2dcf3-5cff-42c3-f75a-e3c179b96b59"
      },
      "outputs": [
        {
          "output_type": "error",
          "ename": "AttributeError",
          "evalue": "ignored",
          "traceback": [
            "\u001b[0;31m---------------------------------------------------------------------------\u001b[0m",
            "\u001b[0;31mAttributeError\u001b[0m                            Traceback (most recent call last)",
            "\u001b[0;32m<ipython-input-16-44f799847e65>\u001b[0m in \u001b[0;36m<module>\u001b[0;34m\u001b[0m\n\u001b[1;32m      8\u001b[0m   \u001b[0mlsh\u001b[0m\u001b[0;34m.\u001b[0m\u001b[0mr\u001b[0m\u001b[0;34m=\u001b[0m\u001b[0mi\u001b[0m\u001b[0;34m\u001b[0m\u001b[0;34m\u001b[0m\u001b[0m\n\u001b[1;32m      9\u001b[0m   \u001b[0mlsh\u001b[0m\u001b[0;34m.\u001b[0m\u001b[0mb\u001b[0m\u001b[0;34m=\u001b[0m\u001b[0mint\u001b[0m\u001b[0;34m(\u001b[0m\u001b[0mlsh\u001b[0m\u001b[0;34m.\u001b[0m\u001b[0mnHashes\u001b[0m\u001b[0;34m/\u001b[0m\u001b[0mi\u001b[0m\u001b[0;34m)\u001b[0m\u001b[0;34m\u001b[0m\u001b[0;34m\u001b[0m\u001b[0m\n\u001b[0;32m---> 10\u001b[0;31m   \u001b[0mlsh\u001b[0m\u001b[0;34m.\u001b[0m\u001b[0mlsh\u001b[0m\u001b[0;34m(\u001b[0m\u001b[0;34m)\u001b[0m\u001b[0;34m\u001b[0m\u001b[0;34m\u001b[0m\u001b[0m\n\u001b[0m\u001b[1;32m     11\u001b[0m   \u001b[0mb\u001b[0m\u001b[0;34m=\u001b[0m\u001b[0mlsh\u001b[0m\u001b[0;34m.\u001b[0m\u001b[0mfindCosineSimilarsApproximated\u001b[0m\u001b[0;34m(\u001b[0m\u001b[0;36m0.123\u001b[0m\u001b[0;34m)\u001b[0m\u001b[0;34m\u001b[0m\u001b[0;34m\u001b[0m\u001b[0m\n\u001b[1;32m     12\u001b[0m   \u001b[0mjacc\u001b[0m\u001b[0;34m=\u001b[0m\u001b[0mlsh\u001b[0m\u001b[0;34m.\u001b[0m\u001b[0mjaccardAB\u001b[0m\u001b[0;34m(\u001b[0m\u001b[0;34m)\u001b[0m\u001b[0;34m\u001b[0m\u001b[0;34m\u001b[0m\u001b[0m\n",
            "\u001b[0;32m<ipython-input-13-9fd435f471ba>\u001b[0m in \u001b[0;36mlsh\u001b[0;34m(self)\u001b[0m\n\u001b[1;32m     41\u001b[0m             \u001b[0;32mfor\u001b[0m \u001b[0mj\u001b[0m \u001b[0;32min\u001b[0m \u001b[0mrange\u001b[0m\u001b[0;34m(\u001b[0m\u001b[0mself\u001b[0m\u001b[0;34m.\u001b[0m\u001b[0mrowsTrain\u001b[0m\u001b[0;34m)\u001b[0m\u001b[0;34m:\u001b[0m\u001b[0;34m\u001b[0m\u001b[0;34m\u001b[0m\u001b[0m\n\u001b[1;32m     42\u001b[0m                 \u001b[0;31m# print(i,j)\u001b[0m\u001b[0;34m\u001b[0m\u001b[0;34m\u001b[0m\u001b[0;34m\u001b[0m\u001b[0m\n\u001b[0;32m---> 43\u001b[0;31m                 \u001b[0mv\u001b[0m\u001b[0;34m=\u001b[0m\u001b[0mself\u001b[0m\u001b[0;34m.\u001b[0m\u001b[0mmTrain\u001b[0m\u001b[0;34m[\u001b[0m\u001b[0mj\u001b[0m\u001b[0;34m]\u001b[0m\u001b[0;34m[\u001b[0m\u001b[0mi\u001b[0m\u001b[0;34m*\u001b[0m\u001b[0mself\u001b[0m\u001b[0;34m.\u001b[0m\u001b[0mr\u001b[0m\u001b[0;34m:\u001b[0m\u001b[0;34m(\u001b[0m\u001b[0mi\u001b[0m\u001b[0;34m+\u001b[0m\u001b[0;36m1\u001b[0m\u001b[0;34m)\u001b[0m\u001b[0;34m*\u001b[0m\u001b[0mself\u001b[0m\u001b[0;34m.\u001b[0m\u001b[0mr\u001b[0m\u001b[0;34m]\u001b[0m\u001b[0;34m\u001b[0m\u001b[0;34m\u001b[0m\u001b[0m\n\u001b[0m\u001b[1;32m     44\u001b[0m                 \u001b[0mkey\u001b[0m\u001b[0;34m=\u001b[0m\u001b[0mself\u001b[0m\u001b[0;34m.\u001b[0m\u001b[0mhashesUsed\u001b[0m\u001b[0;34m[\u001b[0m\u001b[0mi\u001b[0m\u001b[0;34m]\u001b[0m\u001b[0;34m.\u001b[0m\u001b[0mgenerateHash\u001b[0m\u001b[0;34m(\u001b[0m\u001b[0mv\u001b[0m\u001b[0;34m)\u001b[0m\u001b[0;34m\u001b[0m\u001b[0;34m\u001b[0m\u001b[0m\n\u001b[1;32m     45\u001b[0m                 \u001b[0;32mif\u001b[0m \u001b[0mkey\u001b[0m \u001b[0;32mnot\u001b[0m \u001b[0;32min\u001b[0m \u001b[0mself\u001b[0m\u001b[0;34m.\u001b[0m\u001b[0mdicts\u001b[0m\u001b[0;34m[\u001b[0m\u001b[0mi\u001b[0m\u001b[0;34m]\u001b[0m\u001b[0;34m:\u001b[0m\u001b[0;34m\u001b[0m\u001b[0;34m\u001b[0m\u001b[0m\n",
            "\u001b[0;31mAttributeError\u001b[0m: 'Lsh' object has no attribute 'mTrain'"
          ]
        }
      ],
      "source": [
        "#automatic search for b and r\n",
        "maxJaccard=0\n",
        "maxR=0\n",
        "maxB=0\n",
        "\n",
        "for i in range(1,int(lsh.nHashes**0.5)):\n",
        "\n",
        "  lsh.r=i\n",
        "  lsh.b=int(lsh.nHashes/i)\n",
        "  lsh.lsh()\n",
        "  b=lsh.findCosineSimilarsApproximated(0.123)\n",
        "  jacc=lsh.jaccardAB()\n",
        "  if jacc>maxJaccard:\n",
        "    maxJaccard=jacc\n",
        "    maxR=lsh.r\n",
        "    maxB=lsh.b\n",
        "\n",
        "\n",
        "\n",
        "  lsh.b=i\n",
        "  lsh.r=int(lsh.nHashes/i)\n",
        "  lsh.lsh()\n",
        "  b=lsh.findCosineSimilarsApproximated(0.123)\n",
        "  jacc=lsh.jaccardAB()\n",
        "  if jacc>maxJaccard:\n",
        "    maxJaccard=jacc\n",
        "    maxR=lsh.r\n",
        "    maxB=lsh.b\n",
        "\n",
        "print([maxJaccard,maxR,maxB])\n",
        "\n",
        "  \n",
        "\n",
        "  \n"
      ]
    },
    {
      "cell_type": "code",
      "source": [
        "lsh.optimizeRB(0.3,50)"
      ],
      "metadata": {
        "id": "HKNYVHjRfQa9"
      },
      "execution_count": null,
      "outputs": []
    },
    {
      "cell_type": "code",
      "execution_count": null,
      "metadata": {
        "colab": {
          "base_uri": "https://localhost:8080/"
        },
        "id": "O4-GcG3e8p3U",
        "outputId": "71cc75f5-00ae-48fa-e921-a183eaf3757f"
      },
      "outputs": [
        {
          "name": "stdout",
          "output_type": "stream",
          "text": [
            "0.000393301192590713\n",
            "0.7948717948717948\n"
          ]
        }
      ],
      "source": [
        "print(lsh.jaccardAB())\n",
        "print(Operations.jaccardSimilarity(lsh.a.intersection(lsh.b),lsh.a))\n",
        "# intersection=lsh.a.intersection(lsh.b)\n",
        "# print(len(intersection),len(lsh.a))\n"
      ]
    }
  ],
  "metadata": {
    "colab": {
      "collapsed_sections": [],
      "provenance": []
    },
    "kernelspec": {
      "display_name": "Python 3.9.2 64-bit",
      "language": "python",
      "name": "python3"
    },
    "language_info": {
      "codemirror_mode": {
        "name": "ipython",
        "version": 3
      },
      "file_extension": ".py",
      "mimetype": "text/x-python",
      "name": "python",
      "nbconvert_exporter": "python",
      "pygments_lexer": "ipython3",
      "version": "3.9.2"
    },
    "vscode": {
      "interpreter": {
        "hash": "05c73f36370b37d7956a45e693a83b97388709ec0b54883dc202775cd3dcb887"
      }
    }
  },
  "nbformat": 4,
  "nbformat_minor": 0
}