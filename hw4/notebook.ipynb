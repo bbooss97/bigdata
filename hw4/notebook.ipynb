{
 "cells": [
  {
   "attachments": {},
   "cell_type": "markdown",
   "metadata": {},
   "source": [
    "Andrea Morelli 1845525 4 th Homework Big Data"
   ]
  },
  {
   "cell_type": "code",
   "execution_count": null,
   "metadata": {},
   "outputs": [],
   "source": [
    "#the latest sklearn version is needed for the inverse of the random projection\n",
    "!pip install -U scikit-learn==1.2.0"
   ]
  },
  {
   "attachments": {},
   "cell_type": "markdown",
   "metadata": {},
   "source": [
    "Those are the functions that allow to read the dataset , create wordcloud starting from keywords , do the elbow method both for the svd and for the k means and apply svd and k means."
   ]
  },
  {
   "cell_type": "code",
   "execution_count": null,
   "metadata": {},
   "outputs": [],
   "source": [
    "from wordcloud import WordCloud\n",
    "import pandas as pd\n",
    "import numpy as np\n",
    "from IPython.display import clear_output\n",
    "import re\n",
    "import pickle\n",
    "import nltk\n",
    "from nltk.tokenize import word_tokenize\n",
    "from nltk.stem import WordNetLemmatizer\n",
    "from sklearn.feature_extraction.text import TfidfVectorizer\n",
    "from sklearn.cluster import KMeans\n",
    "from sklearn.cluster import MiniBatchKMeans\n",
    "from sklearn.decomposition import TruncatedSVD\n",
    "from sklearn import random_projection\n",
    "import matplotlib.pyplot as plt\n",
    "from sklearn import metrics\n",
    "import sklearn\n",
    "print(sklearn.__version__)\n",
    "randomProjected=False\n",
    "\n",
    "#read the dataset and randomly seelct part of it if you want to take just a part of it\n",
    "def readDataset(percentage=0.1):\n",
    "    global vectorizer\n",
    "    global randomProjected\n",
    "    #read X from a file\n",
    "    with open('X.pickle', 'rb') as f:\n",
    "        X = pickle.load(f)\n",
    "    #read the vectorizer from a file\n",
    "    with open('vectorizer.pickle', 'rb') as f:\n",
    "        vectorizer = pickle.load(f)\n",
    "    feature_names=vectorizer.get_feature_names_out(input_features=X)\n",
    "    #take just a percantage of it for testing\n",
    "    np.random_state=42\n",
    "    rowsToRetain=int(X.shape[0]*percentage)\n",
    "    X=X[np.random.choice(X.shape[0], rowsToRetain, replace=False)]\n",
    "    randomProjected=False\n",
    "    return X\n",
    "\n",
    "def createWordCloud(keywords):\n",
    "    # Create the wordcloud object\n",
    "    wordcloud = WordCloud().generate(' '.join(keywords))\n",
    "    # Display the generated wordcloud\n",
    "    plt.imshow(wordcloud, interpolation='bilinear')\n",
    "    plt.axis(\"off\")\n",
    "    plt.show()\n",
    "\n",
    "#does the elbow method with the k means starting from min to max with step and plot the inertias for each k \n",
    "def elbowMethodMiniBatchKMeans(X,min=1,max=40,step=2,batch_size=1000):\n",
    "    k=range(min,max,step)\n",
    "    inertias=[]\n",
    "    for i in k:\n",
    "        if batch_size==0:\n",
    "            km=KMeans(n_clusters=i,init='k-means++')\n",
    "        else:\n",
    "            km=MiniBatchKMeans(n_clusters=i,init='k-means++',batch_size=batch_size)\n",
    "        km.fit(X)\n",
    "        clear_output(wait=True)\n",
    "        print(i,km.inertia_)\n",
    "        inertias.append(km.inertia_)\n",
    "        plt.plot(range(1,i+1,step),inertias,'-o')\n",
    "        plt.xlabel('number of clusters, k')\n",
    "        plt.ylabel('inertias')\n",
    "        # plt.xticks(k[:i])\n",
    "        plt.show()\n",
    "        plt.clf()\n",
    "        \n",
    "#does the elbow method with the svd starting from min to max with step and plot the energies for each k\n",
    "def elbowMethodSvd(X,min=1,max=40,step=2):\n",
    "    #elbow methood on the svds\n",
    "    k=range(min,max,step)\n",
    "    energies=[]\n",
    "    for i in k:\n",
    "        svd=TruncatedSVD(n_components=i)\n",
    "        svd.fit(X)\n",
    "        energies.append(svd.explained_variance_ratio_.sum())\n",
    "        #plot the results up to this point\n",
    "        clear_output(wait=True)\n",
    "        print(i,svd.explained_variance_ratio_.sum())\n",
    "        plt.plot(range(1,i+1,step),energies,'-o')\n",
    "        plt.xlabel('number of clusters, k')\n",
    "        plt.ylabel('energy')\n",
    "        # plt.xticks(k[:i])\n",
    "        plt.show()\n",
    "        plt.clf()\n",
    "\n",
    "#applis the kmeans algorithm with k clusters and prints the top 20 words of each cluster, if batchsize is 0 then it uses the normal k means otherwise minibatch k means\n",
    "def miniBatchKMeans(X,k=20,batch_size=1000,X_proj=None):\n",
    "    global randomProjected,rp\n",
    "    if batch_size==0:\n",
    "        km=KMeans(n_clusters=k,init='k-means++')\n",
    "    else:\n",
    "        km = MiniBatchKMeans(n_clusters=k, init='k-means++',batch_size=batch_size)\n",
    "    if randomProjected:\n",
    "        km.fit(X_proj)\n",
    "        centroids=[]\n",
    "        for i in range(k):\n",
    "            centroids.append(X[km.labels_==i].mean(axis=0))\n",
    "        centroids=np.array(centroids)\n",
    "    else:\n",
    "        km.fit(X)\n",
    "        centroids=km.cluster_centers_\n",
    "    centroids=centroids.squeeze()\n",
    "    centroids = centroids.argsort()[:, ::-1] ## Indices of largest centroids' entries in descending order\n",
    "    terms = vectorizer.get_feature_names_out()\n",
    "    centroids=centroids.squeeze()\n",
    "    for i in range(k):\n",
    "        print(\"Cluster %d:\" % i, end='')\n",
    "        keywords=[]\n",
    "        for ind in centroids[i, :20]:\n",
    "            print(' %s' % terms[ind], end='')\n",
    "            keywords.append(terms[ind])\n",
    "        createWordCloud(keywords)\n",
    "        print()\n",
    "\n",
    "#applis the svd algorithm with k clusters (dimensions) and prints the top 20 words of each cluster\n",
    "def truncatedSVD(X,k=20,X_proj=None):\n",
    "    global randomProjected,rp\n",
    "    svd = TruncatedSVD(n_components=k ,random_state=42)\n",
    "    if randomProjected:\n",
    "        y=svd.fit_transform(X_proj)\n",
    "        components=rp.inverse_transform(svd.components_)\n",
    "    else:\n",
    "        y=svd.fit_transform(X)\n",
    "        components=svd.components_\n",
    "    print(f\"Total energy retained in ratio: {svd.explained_variance_ratio_.sum()}\")\n",
    "    terms = vectorizer.get_feature_names_out()\n",
    "    for i, comp in enumerate(svd.components_):\n",
    "        terms_comp = zip(terms, comp)\n",
    "        sorted_terms = sorted(terms_comp, key= lambda x:x[1], reverse=True)[:20]\n",
    "        print(\"Topic \"+str(i)+\": \")\n",
    "        createWordCloud(i[0] for i in sorted_terms)\n",
    "        s = \"\"\n",
    "        for t in sorted_terms:\n",
    "            s += t[0] + \" \"\n",
    "        print(s)\n",
    "    "
   ]
  },
  {
   "attachments": {},
   "cell_type": "markdown",
   "metadata": {},
   "source": [
    "connect to google drive to retrieve the preprocessed data not doing it from scratch everytime"
   ]
  },
  {
   "cell_type": "code",
   "execution_count": null,
   "metadata": {},
   "outputs": [],
   "source": [
    "from google.colab import drive\n",
    "drive.mount('/drive')"
   ]
  },
  {
   "cell_type": "code",
   "execution_count": null,
   "metadata": {},
   "outputs": [],
   "source": [
    "%cd ../drive/My Drive/bigdatahw4"
   ]
  },
  {
   "attachments": {},
   "cell_type": "markdown",
   "metadata": {},
   "source": [
    "download the kaggle dataset to google drive"
   ]
  },
  {
   "cell_type": "code",
   "execution_count": null,
   "metadata": {},
   "outputs": [],
   "source": [
    "#insert the kaggle json file in the content directory before running this cell\n",
    "import os\n",
    "os.environ['KAGGLE_CONFIG_DIR'] = \"/content\""
   ]
  },
  {
   "cell_type": "code",
   "execution_count": null,
   "metadata": {},
   "outputs": [],
   "source": [
    "!kaggle datasets download -d mohamedbakhet/amazon-books-reviews"
   ]
  },
  {
   "cell_type": "code",
   "execution_count": null,
   "metadata": {},
   "outputs": [],
   "source": [
    "from zipfile import ZipFile\n",
    "# Create a ZipFile Object and load sample.zip in it\n",
    "with ZipFile('amazon-books-reviews.zip', 'r') as zipObj:\n",
    "   # Extract all the contents of zip file in current directory\n",
    "   zipObj.extractall()"
   ]
  },
  {
   "attachments": {},
   "cell_type": "markdown",
   "metadata": {},
   "source": [
    "read the dataset or just a portion for testing purposes"
   ]
  },
  {
   "cell_type": "code",
   "execution_count": null,
   "metadata": {},
   "outputs": [],
   "source": [
    "\n",
    "percentage=1\n",
    "nRows=3000001\n",
    "nOfRowsToRead=int(nRows*percentage)\n",
    "\n",
    "#read the csv text file\n",
    "df = pd.read_csv('./Books_rating.csv', header=None , nrows=nOfRowsToRead)\n",
    "df=df.to_numpy()\n",
    "\n",
    "#split the data into header and data and reviews\n",
    "header= df[0]\n",
    "data=df[1:]\n",
    "docs=data[:,-1]\n",
    "\n",
    "print(docs.shape)"
   ]
  },
  {
   "cell_type": "code",
   "execution_count": null,
   "metadata": {},
   "outputs": [],
   "source": [
    "#drop nan from the rows to not have problems\n",
    "toDrop=[i for i,d in enumerate(docs) if type(docs[i])!=str]\n",
    "docs=np.delete(docs,toDrop)"
   ]
  },
  {
   "attachments": {},
   "cell_type": "markdown",
   "metadata": {},
   "source": [
    "preprocess the data with tfidfVectorizer after appling lowercase, removing non alphabetic characters, removing stopwords and lemmatizing"
   ]
  },
  {
   "cell_type": "code",
   "execution_count": null,
   "metadata": {},
   "outputs": [],
   "source": [
    "#lowercase the reviews\n",
    "for i in range(len(docs)):\n",
    "  docs[i] = docs[i].lower()\n",
    "\n",
    "print(\"lowercase done\")\n",
    "\n",
    "#remove non alphabetic characters\n",
    "for i in range(len(docs)):\n",
    "  docs[i] = re.sub(r\"[^a-zA-Z'\\n ]\", \"\", docs[i])\n",
    "\n",
    "print(\"remove non alphabetic characters done\")\n",
    "\n",
    "#remove contractions\n",
    "contractions_dict = {\n",
    "  \"ain't\": \"am not\",\n",
    "  \"aren't\": \"are not\",\n",
    "  \"can't\": \"cannot\",\n",
    "  \"can't've\": \"cannot have\",\n",
    "  \"'cause\": \"because\",\n",
    "  \"could've\": \"could have\",\n",
    "  \"couldn't\": \"could not\",\n",
    "  \"couldn't've\": \"could not have\",\n",
    "  \"didn't\": \"did not\",\n",
    "  \"doesn't\": \"does not\",\n",
    "  \"don't\": \"do not\",\n",
    "  \"hadn't\": \"had not\",\n",
    "  \"hadn't've\": \"had not have\",\n",
    "  \"hasn't\": \"has not\",\n",
    "  \"haven't\": \"have not\",\n",
    "  \"he'd\": \"he would\",\n",
    "  \"he'd've\": \"he would have\",\n",
    "  \"he'll\": \"he will\",\n",
    "  \"he'll've\": \"he will have\",\n",
    "  \"he's\": \"he is\",\n",
    "  \"how'd\": \"how did\",\n",
    "  \"how'd'y\": \"how do you\",\n",
    "  \"how'll\": \"how will\",\n",
    "  \"how's\": \"how is\",\n",
    "  \"i'd\": \"I would\",\n",
    "  \"i'd've\": \"I would have\",\n",
    "  \"i'll\": \"I will\",\n",
    "  \"i'll've\": \"I will have\",\n",
    "  \"i'm\": \"I am\",\n",
    "  \"i've\": \"I have\",\n",
    "  \"isn't\": \"is not\",\n",
    "  \"it'd\": \"it had\",\n",
    "  \"it'd've\": \"it would have\",\n",
    "  \"it'll\": \"it will\",\n",
    "  \"it'll've\": \"it will have\",\n",
    "  \"it's\": \"it is\",\n",
    "  \"let's\": \"let us\",\n",
    "  \"ma'am\": \"madam\",\n",
    "  \"mayn't\": \"may not\",\n",
    "  \"might've\": \"might have\",\n",
    "  \"mightn't\": \"might not\",\n",
    "  \"mightn't've\": \"might not have\",\n",
    "  \"must've\": \"must have\",\n",
    "  \"mustn't\": \"must not\",\n",
    "  \"mustn't've\": \"must not have\",\n",
    "  \"needn't\": \"need not\",\n",
    "  \"needn't've\": \"need not have\",\n",
    "  \"o'clock\": \"of the clock\",\n",
    "  \"oughtn't\": \"ought not\",\n",
    "  \"oughtn't've\": \"ought not have\",\n",
    "  \"shan't\": \"shall not\",\n",
    "  \"sha'n't\": \"shall not\",\n",
    "  \"shan't've\": \"shall not have\",\n",
    "  \"she'd\": \"she would\",\n",
    "  \"she'd've\": \"she would have\",\n",
    "  \"she'll\": \"she will\",\n",
    "  \"she'll've\": \"she will have\",\n",
    "  \"she's\": \"she is\",\n",
    "  \"should've\": \"should have\",\n",
    "  \"shouldn't\": \"should not\",\n",
    "  \"shouldn't've\": \"should not have\",\n",
    "  \"so've\": \"so have\",\n",
    "  \"so's\": \"so is\",\n",
    "  \"that'd\": \"that would\",\n",
    "  \"that'd've\": \"that would have\",\n",
    "  \"that's\": \"that is\",\n",
    "  \"there'd\": \"there had\",\n",
    "  \"there'd've\": \"there would have\",\n",
    "  \"there's\": \"there is\",\n",
    "  \"they'd\": \"they would\",\n",
    "  \"they'd've\": \"they would have\",\n",
    "  \"they'll\": \"they will\",\n",
    "  \"they'll've\": \"they will have\",\n",
    "  \"they're\": \"they are\",\n",
    "  \"they've\": \"they have\",\n",
    "  \"to've\": \"to have\",\n",
    "  \"wasn't\": \"was not\",\n",
    "  \"we'd\": \"we had\",\n",
    "  \"we'd've\": \"we would have\",\n",
    "  \"we'll\": \"we will\",\n",
    "  \"we'll've\": \"we will have\",\n",
    "  \"we're\": \"we are\",\n",
    "  \"we've\": \"we have\",\n",
    "  \"weren't\": \"were not\",\n",
    "  \"what'll\": \"what will\",\n",
    "  \"what'll've\": \"what will have\",\n",
    "  \"what're\": \"what are\",\n",
    "  \"what's\": \"what is\",\n",
    "  \"what've\": \"what have\",\n",
    "  \"when's\": \"when is\",\n",
    "  \"when've\": \"when have\",\n",
    "  \"where'd\": \"where did\",\n",
    "  \"where's\": \"where is\",\n",
    "  \"where've\": \"where have\",\n",
    "  \"who'll\": \"who will\",\n",
    "  \"who'll've\": \"who will have\",\n",
    "  \"who's\": \"who is\",\n",
    "  \"who've\": \"who have\",\n",
    "  \"why's\": \"why is\",\n",
    "  \"why've\": \"why have\",\n",
    "  \"will've\": \"will have\",\n",
    "  \"won't\": \"will not\",\n",
    "  \"won't've\": \"will not have\",\n",
    "  \"would've\": \"would have\",\n",
    "  \"wouldn't\": \"would not\",\n",
    "  \"wouldn't've\": \"would not have\",\n",
    "  \"y'all\": \"you all\",\n",
    "  \"y'alls\": \"you alls\",\n",
    "  \"y'all'd\": \"you all would\",\n",
    "  \"y'all'd've\": \"you all would have\",\n",
    "  \"y'all're\": \"you all are\",\n",
    "  \"y'all've\": \"you all have\",\n",
    "  \"you'd\": \"you had\",\n",
    "  \"you'd've\": \"you would have\",\n",
    "  \"you'll\": \"you will\",\n",
    "  \"you'll've\": \"you will have\",\n",
    "  \"you're\": \"you are\",\n",
    "  \"you've\": \"you have\"\n",
    "}\n",
    "\n",
    "# Regular expression for finding contractions\n",
    "def multiple_replace(dict, text):\n",
    "  # Create a regular expression  from the dictionary keys\n",
    "  regex = re.compile(\"(%s)\" % \"|\".join(map(re.escape, dict.keys())))\n",
    "\n",
    "  # For each match, look-up corresponding value in dictionary\n",
    "  return regex.sub(lambda mo: dict[mo.string[mo.start():mo.end()]], text)\n",
    "\n",
    "docs = [multiple_replace(contractions_dict, doc) for doc in docs] # Removing contractions\n",
    "\n",
    "print(\"contractions done\")\n",
    "\n",
    "#remove \\n\n",
    "docs = [re.sub(r\"[^a-zA-Z ]\", \" \", doc) for doc in docs]\n",
    "\n",
    "#remove stopwords\n",
    "nltk.download('stopwords')\n",
    "nltk.download('wordnet')\n",
    "nltk.download('punkt')\n",
    "nltk.download('omw-1.4')\n",
    "\n",
    "stopwords = nltk.corpus.stopwords.words('english') # Returns a list\n",
    "stopwords = set(stopwords) # We want a set, because this is implemented with a hash table\n",
    "                           # Checking the if condition in rem_stop costs O(1) in this way\n",
    "\n",
    "def rem_stop(doc):\n",
    "   word_list = word_tokenize(doc)\n",
    "   cleaned_doc = \"\"\n",
    "   for word in word_list:\n",
    "     if word not in stopwords:\n",
    "       cleaned_doc += \" \" + word\n",
    "   return cleaned_doc\n",
    "\n",
    "\n",
    "docs = [rem_stop(doc) for doc in docs]\n",
    "\n",
    "print(\"stopwords done\")\n",
    "\n",
    "#lemmatiation\n",
    "lemmatizer = WordNetLemmatizer()\n",
    "for i in range(len(docs)):\n",
    "    word_list = word_tokenize(docs[i])\n",
    "    lemmatized_doc = \"\"\n",
    "    for word in word_list:\n",
    "        lemmatized_doc = lemmatized_doc + \" \" + lemmatizer.lemmatize(word)\n",
    "    docs[i] = lemmatized_doc  \n",
    "\n",
    "print(\"lemmetizer done\")\n",
    "\n",
    "#tfidf vectorization\n",
    "vectorizer = TfidfVectorizer(strip_accents='unicode', stop_words='english', min_df=5) ## Corpus is in English\n",
    "X = vectorizer.fit_transform(docs)\n",
    "\n",
    "print(\"vectorizer done\")\n",
    "\n",
    "print(X.shape)"
   ]
  },
  {
   "attachments": {},
   "cell_type": "markdown",
   "metadata": {},
   "source": [
    "writes the preprocessed data to the drive"
   ]
  },
  {
   "cell_type": "code",
   "execution_count": null,
   "metadata": {},
   "outputs": [],
   "source": [
    "# write X to a file\n",
    "with open('X.pickle', 'wb') as f:\n",
    "    pickle.dump(X, f)\n",
    "#save the fitted vectorizer to not redo the preprocessing again\n",
    "with open('vectorizer.pickle', 'wb') as f:\n",
    "    pickle.dump(vectorizer, f)"
   ]
  },
  {
   "attachments": {},
   "cell_type": "markdown",
   "metadata": {},
   "source": [
    "use the elbow method to a portion of the dataset to find the best number of k"
   ]
  },
  {
   "cell_type": "code",
   "execution_count": null,
   "metadata": {},
   "outputs": [],
   "source": [
    "X=readDataset(0.1)"
   ]
  },
  {
   "cell_type": "code",
   "execution_count": null,
   "metadata": {},
   "outputs": [],
   "source": [
    "elbowMethodMiniBatchKMeans(X,1,40,2,1000)"
   ]
  },
  {
   "attachments": {
    "image.png": {
     "image/png": "[encoded data removed]"
    }
   },
   "cell_type": "markdown",
   "metadata": {},
   "source": [
    "this is the results using min 1 max 200 and step 20 with batchsize 30000 if you dont want to run the above cell\n",
    "the elbow is not that clear as one can see but the inertias go down in a faster way in the first 25 inertias\n",
    "\n",
    "![image.png](attachment:image.png)"
   ]
  },
  {
   "attachments": {},
   "cell_type": "markdown",
   "metadata": {},
   "source": [
    "use the elbow method to a portion of the dataset to find the best number of k with random projections"
   ]
  },
  {
   "cell_type": "code",
   "execution_count": null,
   "metadata": {},
   "outputs": [],
   "source": [
    "X=readDataset(0.1)"
   ]
  },
  {
   "cell_type": "code",
   "execution_count": null,
   "metadata": {},
   "outputs": [],
   "source": [
    "rp=random_projection.SparseRandomProjection(n_components=600)\n",
    "X_proj=rp.fit_transform(X)\n",
    "randomProjected=True"
   ]
  },
  {
   "cell_type": "code",
   "execution_count": null,
   "metadata": {},
   "outputs": [],
   "source": [
    "elbowMethodMiniBatchKMeans(X_proj,1,40,2,1000)"
   ]
  },
  {
   "attachments": {
    "image.png": {
     "image/png": "[encoded data removed]"
    }
   },
   "cell_type": "markdown",
   "metadata": {},
   "source": [
    "this is the elbow method with random projections and k means with min 1 max 200 and step 20 if you dont want to run the above cell. we can see a sort of elbow\n",
    "\n",
    "\n",
    "![image.png](attachment:image.png)"
   ]
  },
  {
   "attachments": {},
   "cell_type": "markdown",
   "metadata": {},
   "source": [
    "use the elbow method to a portion of the dataset to find the best k with the svd"
   ]
  },
  {
   "cell_type": "code",
   "execution_count": null,
   "metadata": {},
   "outputs": [],
   "source": [
    "X=readDataset(0.1)"
   ]
  },
  {
   "cell_type": "code",
   "execution_count": null,
   "metadata": {},
   "outputs": [],
   "source": [
    "elbowMethodSvd(X,1,40,2)"
   ]
  },
  {
   "attachments": {
    "image.png": {
     "image/png": "[encoded data removed]"
    }
   },
   "cell_type": "markdown",
   "metadata": {},
   "source": [
    "this the result of the elbow method with svd using min 1 max 500 and step size of 50\n",
    "as you can see the the elbow is not that pronounced but the retrieved energy increases a lot in the first 50 components\n",
    "\n",
    "![image.png](attachment:image.png)"
   ]
  },
  {
   "attachments": {},
   "cell_type": "markdown",
   "metadata": {},
   "source": [
    "use the elbow method to a portion of the dataset to find the best k with the svd with random projections"
   ]
  },
  {
   "cell_type": "code",
   "execution_count": null,
   "metadata": {},
   "outputs": [],
   "source": [
    "X=readDataset(0.1)"
   ]
  },
  {
   "cell_type": "code",
   "execution_count": null,
   "metadata": {},
   "outputs": [],
   "source": [
    "rp=random_projection.SparseRandomProjection(n_components=600)\n",
    "X_proj=rp.fit_transform(X)\n",
    "randomProjected=True"
   ]
  },
  {
   "cell_type": "code",
   "execution_count": null,
   "metadata": {},
   "outputs": [],
   "source": [
    "elbowMethodSvd(X_proj,1,40,2)"
   ]
  },
  {
   "attachments": {
    "image.png": {
     "image/png": "[encoded data removed]"
    }
   },
   "cell_type": "markdown",
   "metadata": {},
   "source": [
    "the result of the elbow method with svd and random projections using min 1 max 500 and step size of 50\n",
    "50 percent of the energy in this case is conserved in the first 50 components. The elbow in this case is not that clear.\n",
    "\n",
    "![image.png](attachment:image.png)"
   ]
  },
  {
   "attachments": {},
   "cell_type": "markdown",
   "metadata": {},
   "source": [
    "Below i will apply k means and svd on the dataset both normally or using random projections before.\n",
    "The k means algorithm allows to see better clusters with clear keywords and outperforms the svd algorithm for clustering.\n",
    "Below you can modify the number of clusters or components and see the results with wordclouds."
   ]
  },
  {
   "attachments": {},
   "cell_type": "markdown",
   "metadata": {},
   "source": [
    "apply minibatch k means "
   ]
  },
  {
   "cell_type": "code",
   "execution_count": null,
   "metadata": {},
   "outputs": [],
   "source": [
    "X=readDataset(1)"
   ]
  },
  {
   "cell_type": "code",
   "execution_count": null,
   "metadata": {},
   "outputs": [],
   "source": [
    "miniBatchKMeans(X,20,1000)"
   ]
  },
  {
   "attachments": {},
   "cell_type": "markdown",
   "metadata": {},
   "source": [
    "apply truncated svd"
   ]
  },
  {
   "cell_type": "code",
   "execution_count": null,
   "metadata": {},
   "outputs": [],
   "source": [
    "X=readDataset(1)"
   ]
  },
  {
   "cell_type": "code",
   "execution_count": null,
   "metadata": {},
   "outputs": [],
   "source": [
    "truncatedSVD(X,20)"
   ]
  },
  {
   "attachments": {},
   "cell_type": "markdown",
   "metadata": {},
   "source": [
    "Here you can use the random projeciton before applying the clustering algorithms. The results are not that different from the ones above in fact the k means outperforms the svd algorithm.\n",
    "The performances are slightly better than the ones obtained without the random projection in the case of the k means. The performances of the svd with random projections though are worse than the ones without random projections.\n",
    "I suppose that for the k means the random projection acts as a denoiser and the clusters are more clear and separated.\n",
    "You can change the number of clusters i tried different numbers and with 100 i would obtain more clear keywords seeing clearly types of cluseters.\n",
    "Using smaller numbers will results in more general keywords and the clusters would not be that visible.\n",
    "The elbow methods were not super clear on what the number of clusters would be since there was not a pronounced elbow."
   ]
  },
  {
   "attachments": {},
   "cell_type": "markdown",
   "metadata": {},
   "source": [
    "apply random projection and then k means"
   ]
  },
  {
   "cell_type": "code",
   "execution_count": null,
   "metadata": {},
   "outputs": [],
   "source": [
    "X=readDataset(1)"
   ]
  },
  {
   "cell_type": "code",
   "execution_count": null,
   "metadata": {},
   "outputs": [],
   "source": [
    "rp=random_projection.SparseRandomProjection(n_components=600)\n",
    "X_proj=rp.fit_transform(X)\n",
    "randomProjected=True"
   ]
  },
  {
   "cell_type": "code",
   "execution_count": null,
   "metadata": {},
   "outputs": [],
   "source": [
    "miniBatchKMeans(X,20,30000,X_proj)"
   ]
  },
  {
   "attachments": {},
   "cell_type": "markdown",
   "metadata": {},
   "source": [
    "apply random projection and then truncated svd"
   ]
  },
  {
   "cell_type": "code",
   "execution_count": null,
   "metadata": {},
   "outputs": [],
   "source": [
    "X=readDataset(1)"
   ]
  },
  {
   "cell_type": "code",
   "execution_count": null,
   "metadata": {},
   "outputs": [],
   "source": [
    "rp=random_projection.SparseRandomProjection(n_components=600)\n",
    "X_proj=rp.fit_transform(X)\n",
    "randomProjected=True"
   ]
  },
  {
   "cell_type": "code",
   "execution_count": null,
   "metadata": {},
   "outputs": [],
   "source": [
    "truncatedSVD(X,20,X_proj)"
   ]
  },
  {
   "attachments": {},
   "cell_type": "markdown",
   "metadata": {},
   "source": [
    "apply svd and then k means (results are horrible its there just because i used it and saw that nothing would come out of it)\n",
    "its probabily because the svd is not able to keep most of the energy in the first components like for example in the images where most of the energy 90% is kept\n",
    "at the first like 100 components.\n",
    "In this case with 500 components i would retrieve only the 30% of the energy and it's not enought to cluster the data correctly"
   ]
  },
  {
   "cell_type": "code",
   "execution_count": null,
   "metadata": {},
   "outputs": [],
   "source": [
    "X=readDataset(0.01)"
   ]
  },
  {
   "cell_type": "code",
   "execution_count": null,
   "metadata": {},
   "outputs": [],
   "source": [
    "#apply svd to do dimensionality reduction and then k means to classify the data\n",
    "newDimensions=200\n",
    "k=20\n",
    "batchSize=1000\n",
    "svd=TruncatedSVD(n_components=newDimensions)\n",
    "X=svd.fit_transform(X)\n",
    "if batchSize==0:\n",
    "    km=KMeans(n_clusters=k,init='k-means++')\n",
    "else:\n",
    "    km=MiniBatchKMeans(n_clusters=k,batch_size=batchSize,init='k-means++')\n",
    "km.fit(X)\n",
    "centroids=km.cluster_centers_\n",
    "centroids=svd.inverse_transform(centroids).astype(int)\n",
    "terms = vectorizer.get_feature_names_out()\n",
    "for i, comp in enumerate(centroids):\n",
    "    terms_comp = zip(terms, comp)\n",
    "    sorted_terms = sorted(terms_comp, key= lambda x:x[1], reverse=True)[:10]\n",
    "    print(\"Topic \"+str(i)+\": \")\n",
    "    createWordCloud(i[0] for i in sorted_terms)\n",
    "    s = \"\"\n",
    "    for t in sorted_terms:\n",
    "        s += t[0] + \" \"\n",
    "    print(s)\n"
   ]
  },
  {
   "attachments": {},
   "cell_type": "markdown",
   "metadata": {},
   "source": [
    "The best performances are reached using random projection and the the k means algorithm. \n",
    "The random projection acts as noise reduction reducing the dimensionality of the dataset and the k means algorithm is able to find the clusters.\n",
    "Using 100 or 200 clusters we can clearly see the topics of the reviews in a fine way using less of them would allow to see more general topics like 30.\n",
    "The performaces are worse if we use less components of the random projection and a smaller batch size.\n",
    "Using less clusters will allow to see more general topics while using more clusters allows to see for example keywords of the reviews and the books.\n",
    "Another particularity found is that using just on a portion of the dataset the clustering will allow to see more less general topics while using the whole dataset will allow to see more general topics."
   ]
  },
  {
   "cell_type": "code",
   "execution_count": null,
   "metadata": {},
   "outputs": [],
   "source": [
    "X=readDataset(1)"
   ]
  },
  {
   "cell_type": "code",
   "execution_count": null,
   "metadata": {},
   "outputs": [],
   "source": [
    "rp=random_projection.SparseRandomProjection(n_components=1000)\n",
    "X_proj=rp.fit_transform(X)\n",
    "randomProjected=True"
   ]
  },
  {
   "cell_type": "code",
   "execution_count": null,
   "metadata": {},
   "outputs": [],
   "source": [
    "miniBatchKMeans(X,200,500000,X_proj)"
   ]
  },
  {
   "attachments": {},
   "cell_type": "markdown",
   "metadata": {},
   "source": [
    "in case you dont want to execute the code i will include the clusters found. the keywords are from most to less important."
   ]
  },
  {
   "attachments": {},
   "cell_type": "markdown",
   "metadata": {},
   "source": [
    "Cluster 0: incredible que la book en el read libro los una para lo este story se por como su del time\n",
    "\n",
    "\n",
    "Cluster 1: book read great reading like best time recommend love written year author loved page easy know want character way interesting\n",
    "\n",
    "\n",
    "Cluster 2: story book read character love great time like reading life short novel make author good written people reader way child\n",
    "\n",
    "\n",
    "Cluster 3: purchased book read copy gift photoshop great year time reading love friend good condition daughter new recommend amazon child class\n",
    "\n",
    "\n",
    "Cluster 4: really book read like enjoyed great reading story character time liked love good know thing recommend think way lot people\n",
    "\n",
    "\n",
    "Cluster 5: scene book read character story novel verne like time great love taken author life reader make way good really page\n",
    "\n",
    "\n",
    "Cluster 6: movie book read story time like great reading love character better seen novel good saw loved version make year really\n",
    "\n",
    "\n",
    "Cluster 7: money book waste read worth time save buy like make good great author people want reading really way lot know\n",
    "\n",
    "\n",
    "Cluster 8: dictionary word book english use definition language read great reference good need student like entry used spanish useful term look\n",
    "\n",
    "\n",
    "Cluster 9: hawthorne hester scarlet letter puritan dimmesdale book prynne nathaniel sin novel read pearl story adultery character time reader classic guilt\n",
    "\n",
    "\n",
    "Cluster 10: book meet read tony plus morris tour story anthology like saying great dish time character love life make reading author\n",
    "\n",
    "\n",
    "Cluster 11: bird wolfe book courage edna ruth flat read story character life like time novel love great nero good reading woman\n",
    "\n",
    "\n",
    "Cluster 12: hemingway concept religion book read story like great time novel life author reading people way man make character good work\n",
    "\n",
    "\n",
    "Cluster 13: book toddler hatchet brian oracle armstrong read plane waited like dear great lance story child love year time wilderness reading\n",
    "\n",
    "\n",
    "Cluster 14: reason book read like right character time story people novel love way great make life know author good thing year\n",
    "\n",
    "\n",
    "Cluster 15: used book read great time start like year new reading good use class grant author way copy page information bought\n",
    "\n",
    "\n",
    "Cluster 16: melville whale moby dick ahab whaling ishmael book novel read story herman ship captain sea chapter classic mobydick time pequod\n",
    "\n",
    "\n",
    "Cluster 17: forward book looking look reading read story great character enjoyed author series time really good novel love like loved year\n",
    "\n",
    "\n",
    "Cluster 18: telling book story read like time great life character reading author good way people love really novel know make reader\n",
    "\n",
    "\n",
    "Cluster 19: said book read like time say reading great story college really people year know thing love character think review author\n",
    "\n",
    "\n",
    "Cluster 20: song book music read great love cd like play time story sing lyric good year really piano child reading guitar\n",
    "\n",
    "\n",
    "Cluster 21: able book read time story reading great character life like really love year way author people make good novel understand\n",
    "\n",
    "\n",
    "Cluster 22: world book read people new life like time story character friend novel way make great reading love year thing reader\n",
    "\n",
    "\n",
    "Cluster 23: mormon book alive read church prophet smith engrossing joseph story life phillip angelou lds mad history grandfather krakauer time god\n",
    "\n",
    "\n",
    "Cluster 24: dorian wilde gray oscar picture portrait henry basil book lord novel beauty read story life young youth soul man character\n",
    "\n",
    "\n",
    "Cluster 25: overall book reacher read good great story character like reading jack interesting time little economics novel bit really stop enjoyed\n",
    "\n",
    "\n",
    "Cluster 26: fantastic book read great story love time reading character recommend like novel best really loved good written year highly author\n",
    "\n",
    "\n",
    "Cluster 27: nice cat book read great story like good love really time little reading character easy make child know illustration classic\n",
    "\n",
    "\n",
    "Cluster 28: theory book read montag author time like idea great reading work people make way good example physic chapter interesting life\n",
    "\n",
    "\n",
    "Cluster 29: recipe cookbook book cooking cook food ingredient easy great delicious dish make good love meal tried like use bread lot\n",
    "\n",
    "\n",
    "Cluster 30: clancy book tom ryan read novel jack statistic character page like story cather red great good best time plot clark\n",
    "\n",
    "\n",
    "Cluster 31: instruction book easy great read step follow regret clear pattern project make beginner like good time use technique information recommend\n",
    "\n",
    "\n",
    "Cluster 32: got book read enjoy music reading great like dream time love really story year good character know page way card\n",
    "\n",
    "\n",
    "Cluster 33: text book edition read page student great reading chapter good version topic like illustration time author class reader information used\n",
    "\n",
    "\n",
    "Cluster 34: translation english book version read bible original edition geisha text translator reading word story language work time great new good\n",
    "\n",
    "\n",
    "Cluster 35: language book read english reading story time like written word use great novel love understand good character way make author\n",
    "\n",
    "\n",
    "Cluster 36: treatment book read happiness stanley hat like time camp hole life author great researcher story character people make lake year\n",
    "\n",
    "\n",
    "Cluster 37: adult book child read young kid story great reading time eve love like year character life age good recommend school\n",
    "\n",
    "\n",
    "Cluster 38: drawing witch book poker read narnia great wardrobe like lion good child story lucy time love make life really edmund\n",
    "\n",
    "\n",
    "Cluster 39: star book read like story review gave good great rating character reading time really love war novel author best think\n",
    "\n",
    "\n",
    "Cluster 40: good book read really story like reading time great thought recommend think pretty condition lot character love enjoyed little interesting\n",
    "\n",
    "\n",
    "Cluster 41: woman book men read life story love time little like man really girl novel character way reading great make young\n",
    "\n",
    "\n",
    "Cluster 42: work book read great time author novel like reading life story best character way year make people reader written writing\n",
    "\n",
    "\n",
    "Cluster 43: plot book character read novel story like time great interesting reading good twist author reader page end writing make really\n",
    "\n",
    "\n",
    "Cluster 44: heathcliff catherine wuthering height love bronte cathy novel emily character story earnshaw book linton edgar read revenge nelly time passion\n",
    "\n",
    "\n",
    "Cluster 45: africa book truck read cs shaw african pa south story like time life great people love stowe character year reading\n",
    "\n",
    "\n",
    "Cluster 46: kindle book read version free edition classic reading great love story time amazon download downloaded good copy year like available\n",
    "\n",
    "\n",
    "Cluster 47: stevenson book robb robert read louis jekyll story hyde treasure tai jd island pirate character chi great good like novel\n",
    "\n",
    "\n",
    "Cluster 48: jane eyre austen book read love rochester novel bronte wait story character sharpe time dragon reading charlotte classic like mr\n",
    "\n",
    "\n",
    "Cluster 49: classic read book great story time reading love novel year like character school old recommend written loved enjoyed literature child\n",
    "\n",
    "\n",
    "Cluster 50: teenager generation book poetry read story life time religious like reading great love year novel people character child written way\n",
    "\n",
    "\n",
    "Cluster 51: favorite book read time love story great character like reading fish year author alot child loved recommend old novel best\n",
    "\n",
    "\n",
    "Cluster 52: gatsby fitzgerald daisy great nick novel book read jay american love story character tom carraway scott dream life time buchanan\n",
    "\n",
    "\n",
    "Cluster 53: christian book god faith read christianity church bible jesus life christ lewis great time people author reading way like good\n",
    "\n",
    "\n",
    "Cluster 54: book brown analysis quickly read basically fault character great like time story novel pip author reading balance barely page good\n",
    "\n",
    "\n",
    "Cluster 55: picture book great read holmes story love like child creates good reading page time sherlock beautiful lot year old really\n",
    "\n",
    "\n",
    "Cluster 56: condition arrived book great received seller good excellent came timely perfect quickly time thank price ordered product described expected pleased\n",
    "\n",
    "\n",
    "Cluster 57: war book civil read battle world history story novel time soldier american like life army great character military eragon people\n",
    "\n",
    "\n",
    "Cluster 58: tolkien ring hobbit lord book read fantasy frodo jrr trilogy fellowship story world great reading time adventure middle like character\n",
    "\n",
    "\n",
    "Cluster 59: good book read like story really great reading time character recommend lot love thing thought want little author people make\n",
    "\n",
    "\n",
    "Cluster 60: life book read time story people way love like character make reading novel family great year plan thing man reader\n",
    "\n",
    "\n",
    "Cluster 61: lewis christ book god read jesus list christianity life christian great reading time love work faith story like way make\n",
    "\n",
    "\n",
    "Cluster 62: harry potter book read rowling hogwarts series jk like wizard stone sorcerer bosch reading great chamber best ron love school\n",
    "\n",
    "\n",
    "Cluster 63: left book read story character like time reading end novel life author really great way good people love page ending\n",
    "\n",
    "\n",
    "Cluster 64: jordan series book robert wheel character time read rand fantasy story plot like page end reading mat good world wot\n",
    "\n",
    "\n",
    "Cluster 65: continue book read story reading series time character great like love year life good novel author way page really want\n",
    "\n",
    "\n",
    "Cluster 66: artist book art work painting great read life like story time joyce love good make martial young way portrait illustration\n",
    "\n",
    "\n",
    "Cluster 67: boring book read like reading really good time story interesting character thought page think school great make people long got\n",
    "\n",
    "\n",
    "Cluster 68: told book story read time like character great life reading love way year people good novel friend really child author\n",
    "\n",
    "\n",
    "Cluster 69: purchase book amazon condition great happy arrived pleased read seller price good received time satisfied copy product excellent item purchased\n",
    "\n",
    "\n",
    "Cluster 70: dry book read reading time like good history humor story little interesting author character really bit make boring novel great\n",
    "\n",
    "\n",
    "Cluster 71: wonderful book read time story love great reading character recommend child year life loved like jack novel make written way\n",
    "\n",
    "\n",
    "Cluster 72: series book read character great reading love story like good time best wait really enjoyed loved novel recommend rest end\n",
    "\n",
    "\n",
    "Cluster 73: good book read like time character author make people novel story way thing reading know great want new year really\n",
    "\n",
    "\n",
    "Cluster 74: gift book read great bought love friend software christmas year time copy grammar anita make loved sf story like child\n",
    "\n",
    "\n",
    "Cluster 75: print book george lennie quick read relationship great story like time character mouse reading love men steinbeck good small novel\n",
    "\n",
    "\n",
    "Cluster 76: human book read story life novel nature character time billy people like make way world animal love reader man great\n",
    "\n",
    "\n",
    "Cluster 77: science poem fiction book read like story time great novel work reading scientific written good poetry best make world author\n",
    "\n",
    "\n",
    "Cluster 78: mystery film book murder read christie character novel story agatha series like poirot great time good love reading reader best\n",
    "\n",
    "\n",
    "Cluster 79: husband book read love woman wife life marriage time great reading story year bought like child heart really family loved\n",
    "\n",
    "\n",
    "Cluster 80: emma austen jane frankenstein book novel character read harriet mr woodhouse pride love knightley like story prejudice monster time elton\n",
    "\n",
    "\n",
    "Cluster 81: think book read like people really make great reading good time thing story way life know character love best thought\n",
    "\n",
    "\n",
    "Cluster 82: book read novel time like character year love story great make author way people new reader reading know life history\n",
    "\n",
    "\n",
    "Cluster 83: today book read time year written people story great world reading life ago relevant like society way novel make love\n",
    "\n",
    "\n",
    "Cluster 84: learning book thought read great learn reading time recommend like child easy way love good interested new student life year\n",
    "\n",
    "\n",
    "Cluster 85: grandson book old read love bought year purchased child reading loved great gift story christmas ordered enjoyed enjoy little picture\n",
    "\n",
    "\n",
    "Cluster 86: sad book sharing read index story like life love time great reading character sence make author written way people loved\n",
    "\n",
    "\n",
    "Cluster 87: book production reiki corp read marine random mate story xmen like great time reading character good goodbye life year love\n",
    "\n",
    "\n",
    "Cluster 88: book thrilling realy read andy novella story biased like great time reading character novel love good life best make author\n",
    "\n",
    "\n",
    "Cluster 89: hannibal bryson harris book lecter read everytime noah silence clarice lamb starling character time urban australia story ending love like\n",
    "\n",
    "\n",
    "Cluster 90: mr book read darcy story character elizabeth time novel like love life reading great bennet austen jane people make good\n",
    "\n",
    "\n",
    "Cluster 91: bilbo hobbit dwarf adventure ring baggins gandalf tolkien dragon book wizard lord smaug goblin fantasy read elf story treasure jrr\n",
    "\n",
    "\n",
    "Cluster 92: excellent book read recommend great reading story time highly written good information author character easy love life like best history\n",
    "\n",
    "\n",
    "Cluster 93: romance book read love novel story character like time great reading mystery good loved plot really historical heroine author best\n",
    "\n",
    "\n",
    "Cluster 94: king stephen book read story novel character like time good arthur best horror carrie great fan reading tower work really\n",
    "\n",
    "\n",
    "Cluster 95: jim java book huck laughed read educational great adventure programming story treasure time twain good like reading finn pirate character\n",
    "\n",
    "\n",
    "Cluster 96: movie book read better seen great story saw good reading love like loved time enjoyed really watched different seeing watching\n",
    "\n",
    "\n",
    "Cluster 97: matter book read subject time life like great story reading love character people novel make author way year know written\n",
    "\n",
    "\n",
    "Cluster 98: funny book read great like story time really reading love character laugh good loved think humor make life recommend loud\n",
    "\n",
    "\n",
    "Cluster 99: book loaned marianne buff read elinor love history time revealed story novel salem like dashwood great friend character reading copy\n",
    "\n"
   ]
  }
 ],
 "metadata": {
  "kernelspec": {
   "display_name": "Python 3",
   "language": "python",
   "name": "python3"
  },
  "language_info": {
   "codemirror_mode": {
    "name": "ipython",
    "version": 3
   },
   "file_extension": ".py",
   "mimetype": "text/x-python",
   "name": "python",
   "nbconvert_exporter": "python",
   "pygments_lexer": "ipython3",
   "version": "3.9.2"
  },
  "orig_nbformat": 4,
  "vscode": {
   "interpreter": {
    "hash": "05c73f36370b37d7956a45e693a83b97388709ec0b54883dc202775cd3dcb887"
   }
  }
 },
 "nbformat": 4,
 "nbformat_minor": 2
}
