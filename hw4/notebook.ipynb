{
 "cells": [
  {
   "attachments": {},
   "cell_type": "markdown",
   "metadata": {},
   "source": [
    "Andrea Morelli 1845525 4 th Homework Big Data"
   ]
  },
  {
   "cell_type": "code",
   "execution_count": null,
   "metadata": {},
   "outputs": [],
   "source": [
    "#the latest sklearn version is needed for the inverse of the random projection\n",
    "!pip install -U scikit-learn==1.2.0"
   ]
  },
  {
   "attachments": {},
   "cell_type": "markdown",
   "metadata": {},
   "source": [
    "Those are the functions that allow to read the dataset , create wordcloud starting from keywords , do the elbow method both for the svd and for the k means and apply svd and k means."
   ]
  },
  {
   "cell_type": "code",
   "execution_count": null,
   "metadata": {},
   "outputs": [],
   "source": [
    "from wordcloud import WordCloud\n",
    "import pandas as pd\n",
    "import numpy as np\n",
    "from IPython.display import clear_output\n",
    "import re\n",
    "import pickle\n",
    "import nltk\n",
    "from nltk.tokenize import word_tokenize\n",
    "from nltk.stem import WordNetLemmatizer\n",
    "from sklearn.feature_extraction.text import TfidfVectorizer\n",
    "from sklearn.cluster import KMeans\n",
    "from sklearn.cluster import MiniBatchKMeans\n",
    "from sklearn.decomposition import TruncatedSVD\n",
    "from sklearn import random_projection\n",
    "import matplotlib.pyplot as plt\n",
    "from sklearn import metrics\n",
    "import sklearn\n",
    "print(sklearn.__version__)\n",
    "randomProjected=False\n",
    "\n",
    "#read the dataset and randomly seelct part of it if you want to take just a part of it\n",
    "def readDataset(percentage=0.1):\n",
    "    global vectorizer\n",
    "    global randomProjected\n",
    "    #read X from a file\n",
    "    with open('X.pickle', 'rb') as f:\n",
    "        X = pickle.load(f)\n",
    "    #read the vectorizer from a file\n",
    "    with open('vectorizer.pickle', 'rb') as f:\n",
    "        vectorizer = pickle.load(f)\n",
    "    feature_names=vectorizer.get_feature_names_out(input_features=X)\n",
    "    #take just a percantage of it for testing\n",
    "    np.random_state=42\n",
    "    rowsToRetain=int(X.shape[0]*percentage)\n",
    "    X=X[np.random.choice(X.shape[0], rowsToRetain, replace=False)]\n",
    "    randomProjected=False\n",
    "    return X\n",
    "\n",
    "def createWordCloud(keywords):\n",
    "    # Create the wordcloud object\n",
    "    wordcloud = WordCloud().generate(' '.join(keywords))\n",
    "    # Display the generated wordcloud\n",
    "    plt.imshow(wordcloud, interpolation='bilinear')\n",
    "    plt.axis(\"off\")\n",
    "    plt.show()\n",
    "\n",
    "#does the elbow method with the k means starting from min to max with step and plot the inertias for each k \n",
    "def elbowMethodMiniBatchKMeans(X,min=1,max=40,step=2,batch_size=1000):\n",
    "    k=range(min,max,step)\n",
    "    inertias=[]\n",
    "    for i in k:\n",
    "        if batch_size==0:\n",
    "            km=KMeans(n_clusters=i,init='k-means++')\n",
    "        else:\n",
    "            km=MiniBatchKMeans(n_clusters=i,init='k-means++',batch_size=batch_size)\n",
    "        km.fit(X)\n",
    "        clear_output(wait=True)\n",
    "        print(i,km.inertia_)\n",
    "        inertias.append(km.inertia_)\n",
    "        plt.plot(range(1,i+1,step),inertias,'-o')\n",
    "        plt.xlabel('number of clusters, k')\n",
    "        plt.ylabel('inertias')\n",
    "        # plt.xticks(k[:i])\n",
    "        plt.show()\n",
    "        plt.clf()\n",
    "        \n",
    "#does the elbow method with the svd starting from min to max with step and plot the energies for each k\n",
    "def elbowMethodSvd(X,min=1,max=40,step=2):\n",
    "    #elbow methood on the svds\n",
    "    k=range(min,max,step)\n",
    "    energies=[]\n",
    "    for i in k:\n",
    "        svd=TruncatedSVD(n_components=i)\n",
    "        svd.fit(X)\n",
    "        energies.append(svd.explained_variance_ratio_.sum())\n",
    "        #plot the results up to this point\n",
    "        clear_output(wait=True)\n",
    "        print(i,svd.explained_variance_ratio_.sum())\n",
    "        plt.plot(range(1,i+1,step),energies,'-o')\n",
    "        plt.xlabel('number of clusters, k')\n",
    "        plt.ylabel('energy')\n",
    "        # plt.xticks(k[:i])\n",
    "        plt.show()\n",
    "        plt.clf()\n",
    "\n",
    "#applis the kmeans algorithm with k clusters and prints the top 20 words of each cluster, if batchsize is 0 then it uses the normal k means otherwise minibatch k means\n",
    "def miniBatchKMeans(X,k=20,batch_size=1000,X_proj=None):\n",
    "    global randomProjected,rp\n",
    "    if batch_size==0:\n",
    "        km=KMeans(n_clusters=k,init='k-means++')\n",
    "    else:\n",
    "        km = MiniBatchKMeans(n_clusters=k, init='k-means++',batch_size=batch_size)\n",
    "    if randomProjected:\n",
    "        km.fit(X_proj)\n",
    "        centroids=[]\n",
    "        for i in range(k):\n",
    "            centroids.append(X[km.labels_==i].mean(axis=0))\n",
    "        centroids=np.array(centroids)\n",
    "    else:\n",
    "        km.fit(X)\n",
    "        centroids=km.cluster_centers_\n",
    "    centroids=centroids.squeeze()\n",
    "    centroids = centroids.argsort()[:, ::-1] ## Indices of largest centroids' entries in descending order\n",
    "    terms = vectorizer.get_feature_names_out()\n",
    "    centroids=centroids.squeeze()\n",
    "    for i in range(k):\n",
    "        print(\"Cluster %d:\" % i, end='')\n",
    "        keywords=[]\n",
    "        for ind in centroids[i, :20]:\n",
    "            print(' %s' % terms[ind], end='')\n",
    "            keywords.append(terms[ind])\n",
    "        createWordCloud(keywords)\n",
    "        print()\n",
    "\n",
    "#applis the svd algorithm with k clusters (dimensions) and prints the top 20 words of each cluster\n",
    "def truncatedSVD(X,k=20,X_proj=None):\n",
    "    global randomProjected,rp\n",
    "    svd = TruncatedSVD(n_components=k ,random_state=42)\n",
    "    if randomProjected:\n",
    "        y=svd.fit_transform(X_proj)\n",
    "        components=rp.inverse_transform(svd.components_)\n",
    "    else:\n",
    "        y=svd.fit_transform(X)\n",
    "        components=svd.components_\n",
    "    print(f\"Total energy retained in ratio: {svd.explained_variance_ratio_.sum()}\")\n",
    "    terms = vectorizer.get_feature_names_out()\n",
    "    for i, comp in enumerate(svd.components_):\n",
    "        terms_comp = zip(terms, comp)\n",
    "        sorted_terms = sorted(terms_comp, key= lambda x:x[1], reverse=True)[:20]\n",
    "        print(\"Topic \"+str(i)+\": \")\n",
    "        createWordCloud(i[0] for i in sorted_terms)\n",
    "        s = \"\"\n",
    "        for t in sorted_terms:\n",
    "            s += t[0] + \" \"\n",
    "        print(s)\n",
    "    "
   ]
  },
  {
   "attachments": {},
   "cell_type": "markdown",
   "metadata": {},
   "source": [
    "connect to google drive to retrieve the preprocessed data not doing it from scratch everytime"
   ]
  },
  {
   "cell_type": "code",
   "execution_count": null,
   "metadata": {},
   "outputs": [],
   "source": [
    "from google.colab import drive\n",
    "drive.mount('/drive')"
   ]
  },
  {
   "cell_type": "code",
   "execution_count": null,
   "metadata": {},
   "outputs": [],
   "source": [
    "%cd ../drive/My Drive/bigdatahw4"
   ]
  },
  {
   "attachments": {},
   "cell_type": "markdown",
   "metadata": {},
   "source": [
    "download the kaggle dataset to google drive"
   ]
  },
  {
   "cell_type": "code",
   "execution_count": null,
   "metadata": {},
   "outputs": [],
   "source": [
    "#insert the kaggle json file in the content directory before running this cell\n",
    "import os\n",
    "os.environ['KAGGLE_CONFIG_DIR'] = \"/content\""
   ]
  },
  {
   "cell_type": "code",
   "execution_count": null,
   "metadata": {},
   "outputs": [],
   "source": [
    "!kaggle datasets download -d mohamedbakhet/amazon-books-reviews"
   ]
  },
  {
   "cell_type": "code",
   "execution_count": null,
   "metadata": {},
   "outputs": [],
   "source": [
    "from zipfile import ZipFile\n",
    "# Create a ZipFile Object and load sample.zip in it\n",
    "with ZipFile('amazon-books-reviews.zip', 'r') as zipObj:\n",
    "   # Extract all the contents of zip file in current directory\n",
    "   zipObj.extractall()"
   ]
  },
  {
   "attachments": {},
   "cell_type": "markdown",
   "metadata": {},
   "source": [
    "read the dataset or just a portion for testing purposes"
   ]
  },
  {
   "cell_type": "code",
   "execution_count": null,
   "metadata": {},
   "outputs": [],
   "source": [
    "\n",
    "percentage=1\n",
    "nRows=3000001\n",
    "nOfRowsToRead=int(nRows*percentage)\n",
    "\n",
    "#read the csv text file\n",
    "df = pd.read_csv('./Books_rating.csv', header=None , nrows=nOfRowsToRead)\n",
    "df=df.to_numpy()\n",
    "\n",
    "#split the data into header and data and reviews\n",
    "header= df[0]\n",
    "data=df[1:]\n",
    "docs=data[:,-1]\n",
    "\n",
    "print(docs.shape)"
   ]
  },
  {
   "cell_type": "code",
   "execution_count": null,
   "metadata": {},
   "outputs": [],
   "source": [
    "#drop nan from the rows to not have problems\n",
    "toDrop=[i for i,d in enumerate(docs) if type(docs[i])!=str]\n",
    "docs=np.delete(docs,toDrop)"
   ]
  },
  {
   "attachments": {},
   "cell_type": "markdown",
   "metadata": {},
   "source": [
    "preprocess the data with tfidfVectorizer after appling lowercase, removing non alphabetic characters, removing stopwords and lemmatizing"
   ]
  },
  {
   "cell_type": "code",
   "execution_count": null,
   "metadata": {},
   "outputs": [],
   "source": [
    "#lowercase the reviews\n",
    "for i in range(len(docs)):\n",
    "  docs[i] = docs[i].lower()\n",
    "\n",
    "print(\"lowercase done\")\n",
    "\n",
    "#remove non alphabetic characters\n",
    "for i in range(len(docs)):\n",
    "  docs[i] = re.sub(r\"[^a-zA-Z'\\n ]\", \"\", docs[i])\n",
    "\n",
    "print(\"remove non alphabetic characters done\")\n",
    "\n",
    "#remove contractions\n",
    "contractions_dict = {\n",
    "  \"ain't\": \"am not\",\n",
    "  \"aren't\": \"are not\",\n",
    "  \"can't\": \"cannot\",\n",
    "  \"can't've\": \"cannot have\",\n",
    "  \"'cause\": \"because\",\n",
    "  \"could've\": \"could have\",\n",
    "  \"couldn't\": \"could not\",\n",
    "  \"couldn't've\": \"could not have\",\n",
    "  \"didn't\": \"did not\",\n",
    "  \"doesn't\": \"does not\",\n",
    "  \"don't\": \"do not\",\n",
    "  \"hadn't\": \"had not\",\n",
    "  \"hadn't've\": \"had not have\",\n",
    "  \"hasn't\": \"has not\",\n",
    "  \"haven't\": \"have not\",\n",
    "  \"he'd\": \"he would\",\n",
    "  \"he'd've\": \"he would have\",\n",
    "  \"he'll\": \"he will\",\n",
    "  \"he'll've\": \"he will have\",\n",
    "  \"he's\": \"he is\",\n",
    "  \"how'd\": \"how did\",\n",
    "  \"how'd'y\": \"how do you\",\n",
    "  \"how'll\": \"how will\",\n",
    "  \"how's\": \"how is\",\n",
    "  \"i'd\": \"I would\",\n",
    "  \"i'd've\": \"I would have\",\n",
    "  \"i'll\": \"I will\",\n",
    "  \"i'll've\": \"I will have\",\n",
    "  \"i'm\": \"I am\",\n",
    "  \"i've\": \"I have\",\n",
    "  \"isn't\": \"is not\",\n",
    "  \"it'd\": \"it had\",\n",
    "  \"it'd've\": \"it would have\",\n",
    "  \"it'll\": \"it will\",\n",
    "  \"it'll've\": \"it will have\",\n",
    "  \"it's\": \"it is\",\n",
    "  \"let's\": \"let us\",\n",
    "  \"ma'am\": \"madam\",\n",
    "  \"mayn't\": \"may not\",\n",
    "  \"might've\": \"might have\",\n",
    "  \"mightn't\": \"might not\",\n",
    "  \"mightn't've\": \"might not have\",\n",
    "  \"must've\": \"must have\",\n",
    "  \"mustn't\": \"must not\",\n",
    "  \"mustn't've\": \"must not have\",\n",
    "  \"needn't\": \"need not\",\n",
    "  \"needn't've\": \"need not have\",\n",
    "  \"o'clock\": \"of the clock\",\n",
    "  \"oughtn't\": \"ought not\",\n",
    "  \"oughtn't've\": \"ought not have\",\n",
    "  \"shan't\": \"shall not\",\n",
    "  \"sha'n't\": \"shall not\",\n",
    "  \"shan't've\": \"shall not have\",\n",
    "  \"she'd\": \"she would\",\n",
    "  \"she'd've\": \"she would have\",\n",
    "  \"she'll\": \"she will\",\n",
    "  \"she'll've\": \"she will have\",\n",
    "  \"she's\": \"she is\",\n",
    "  \"should've\": \"should have\",\n",
    "  \"shouldn't\": \"should not\",\n",
    "  \"shouldn't've\": \"should not have\",\n",
    "  \"so've\": \"so have\",\n",
    "  \"so's\": \"so is\",\n",
    "  \"that'd\": \"that would\",\n",
    "  \"that'd've\": \"that would have\",\n",
    "  \"that's\": \"that is\",\n",
    "  \"there'd\": \"there had\",\n",
    "  \"there'd've\": \"there would have\",\n",
    "  \"there's\": \"there is\",\n",
    "  \"they'd\": \"they would\",\n",
    "  \"they'd've\": \"they would have\",\n",
    "  \"they'll\": \"they will\",\n",
    "  \"they'll've\": \"they will have\",\n",
    "  \"they're\": \"they are\",\n",
    "  \"they've\": \"they have\",\n",
    "  \"to've\": \"to have\",\n",
    "  \"wasn't\": \"was not\",\n",
    "  \"we'd\": \"we had\",\n",
    "  \"we'd've\": \"we would have\",\n",
    "  \"we'll\": \"we will\",\n",
    "  \"we'll've\": \"we will have\",\n",
    "  \"we're\": \"we are\",\n",
    "  \"we've\": \"we have\",\n",
    "  \"weren't\": \"were not\",\n",
    "  \"what'll\": \"what will\",\n",
    "  \"what'll've\": \"what will have\",\n",
    "  \"what're\": \"what are\",\n",
    "  \"what's\": \"what is\",\n",
    "  \"what've\": \"what have\",\n",
    "  \"when's\": \"when is\",\n",
    "  \"when've\": \"when have\",\n",
    "  \"where'd\": \"where did\",\n",
    "  \"where's\": \"where is\",\n",
    "  \"where've\": \"where have\",\n",
    "  \"who'll\": \"who will\",\n",
    "  \"who'll've\": \"who will have\",\n",
    "  \"who's\": \"who is\",\n",
    "  \"who've\": \"who have\",\n",
    "  \"why's\": \"why is\",\n",
    "  \"why've\": \"why have\",\n",
    "  \"will've\": \"will have\",\n",
    "  \"won't\": \"will not\",\n",
    "  \"won't've\": \"will not have\",\n",
    "  \"would've\": \"would have\",\n",
    "  \"wouldn't\": \"would not\",\n",
    "  \"wouldn't've\": \"would not have\",\n",
    "  \"y'all\": \"you all\",\n",
    "  \"y'alls\": \"you alls\",\n",
    "  \"y'all'd\": \"you all would\",\n",
    "  \"y'all'd've\": \"you all would have\",\n",
    "  \"y'all're\": \"you all are\",\n",
    "  \"y'all've\": \"you all have\",\n",
    "  \"you'd\": \"you had\",\n",
    "  \"you'd've\": \"you would have\",\n",
    "  \"you'll\": \"you will\",\n",
    "  \"you'll've\": \"you will have\",\n",
    "  \"you're\": \"you are\",\n",
    "  \"you've\": \"you have\"\n",
    "}\n",
    "\n",
    "# Regular expression for finding contractions\n",
    "def multiple_replace(dict, text):\n",
    "  # Create a regular expression  from the dictionary keys\n",
    "  regex = re.compile(\"(%s)\" % \"|\".join(map(re.escape, dict.keys())))\n",
    "\n",
    "  # For each match, look-up corresponding value in dictionary\n",
    "  return regex.sub(lambda mo: dict[mo.string[mo.start():mo.end()]], text)\n",
    "\n",
    "docs = [multiple_replace(contractions_dict, doc) for doc in docs] # Removing contractions\n",
    "\n",
    "print(\"contractions done\")\n",
    "\n",
    "#remove \\n\n",
    "docs = [re.sub(r\"[^a-zA-Z ]\", \" \", doc) for doc in docs]\n",
    "\n",
    "#remove stopwords\n",
    "nltk.download('stopwords')\n",
    "nltk.download('wordnet')\n",
    "nltk.download('punkt')\n",
    "nltk.download('omw-1.4')\n",
    "\n",
    "stopwords = nltk.corpus.stopwords.words('english') # Returns a list\n",
    "stopwords = set(stopwords) # We want a set, because this is implemented with a hash table\n",
    "                           # Checking the if condition in rem_stop costs O(1) in this way\n",
    "\n",
    "def rem_stop(doc):\n",
    "   word_list = word_tokenize(doc)\n",
    "   cleaned_doc = \"\"\n",
    "   for word in word_list:\n",
    "     if word not in stopwords:\n",
    "       cleaned_doc += \" \" + word\n",
    "   return cleaned_doc\n",
    "\n",
    "\n",
    "docs = [rem_stop(doc) for doc in docs]\n",
    "\n",
    "print(\"stopwords done\")\n",
    "\n",
    "#lemmatiation\n",
    "lemmatizer = WordNetLemmatizer()\n",
    "for i in range(len(docs)):\n",
    "    word_list = word_tokenize(docs[i])\n",
    "    lemmatized_doc = \"\"\n",
    "    for word in word_list:\n",
    "        lemmatized_doc = lemmatized_doc + \" \" + lemmatizer.lemmatize(word)\n",
    "    docs[i] = lemmatized_doc  \n",
    "\n",
    "print(\"lemmetizer done\")\n",
    "\n",
    "#tfidf vectorization\n",
    "vectorizer = TfidfVectorizer(strip_accents='unicode', stop_words='english', min_df=5) ## Corpus is in English\n",
    "X = vectorizer.fit_transform(docs)\n",
    "\n",
    "print(\"vectorizer done\")\n",
    "\n",
    "print(X.shape)"
   ]
  },
  {
   "attachments": {},
   "cell_type": "markdown",
   "metadata": {},
   "source": [
    "writes the preprocessed data to the drive"
   ]
  },
  {
   "cell_type": "code",
   "execution_count": null,
   "metadata": {},
   "outputs": [],
   "source": [
    "# write X to a file\n",
    "with open('X.pickle', 'wb') as f:\n",
    "    pickle.dump(X, f)\n",
    "#save the fitted vectorizer to not redo the preprocessing again\n",
    "with open('vectorizer.pickle', 'wb') as f:\n",
    "    pickle.dump(vectorizer, f)"
   ]
  },
  {
   "attachments": {},
   "cell_type": "markdown",
   "metadata": {},
   "source": [
    "use the elbow method to a portion of the dataset to find the best number of k"
   ]
  },
  {
   "cell_type": "code",
   "execution_count": null,
   "metadata": {},
   "outputs": [],
   "source": [
    "X=readDataset(0.1)"
   ]
  },
  {
   "cell_type": "code",
   "execution_count": null,
   "metadata": {},
   "outputs": [],
   "source": [
    "elbowMethodMiniBatchKMeans(X,1,40,2,1000)"
   ]
  },
  {
   "attachments": {
    "image.png": {
     "image/png": "[encoded data removed]"
    }
   },
   "cell_type": "markdown",
   "metadata": {},
   "source": [
    "this is the results using min 1 max 200 and step 20 with batchsize 30000 if you dont want to run the above cell\n",
    "the elbow is not that clear as one can see but the inertias go down in a faster way in the first 25 inertias\n",
    "\n",
    "![image.png](attachment:image.png)"
   ]
  },
  {
   "attachments": {},
   "cell_type": "markdown",
   "metadata": {},
   "source": [
    "use the elbow method to a portion of the dataset to find the best number of k with random projections"
   ]
  },
  {
   "cell_type": "code",
   "execution_count": null,
   "metadata": {},
   "outputs": [],
   "source": [
    "X=readDataset(0.1)"
   ]
  },
  {
   "cell_type": "code",
   "execution_count": null,
   "metadata": {},
   "outputs": [],
   "source": [
    "rp=random_projection.SparseRandomProjection(n_components=600)\n",
    "X_proj=rp.fit_transform(X)\n",
    "randomProjected=True"
   ]
  },
  {
   "cell_type": "code",
   "execution_count": null,
   "metadata": {},
   "outputs": [],
   "source": [
    "elbowMethodMiniBatchKMeans(X_proj,1,40,2,1000)"
   ]
  },
  {
   "attachments": {},
   "cell_type": "markdown",
   "metadata": {},
   "source": [
    "use the elbow method to a portion of the dataset to find the best k with the svd"
   ]
  },
  {
   "cell_type": "code",
   "execution_count": null,
   "metadata": {},
   "outputs": [],
   "source": [
    "X=readDataset(0.1)"
   ]
  },
  {
   "cell_type": "code",
   "execution_count": null,
   "metadata": {},
   "outputs": [],
   "source": [
    "elbowMethodSvd(X,1,40,2)"
   ]
  },
  {
   "attachments": {
    "image.png": {
     "image/png": "[encoded data removed]"
    }
   },
   "cell_type": "markdown",
   "metadata": {},
   "source": [
    "this the result of the elbow method with svd using min 1 max 500 and step size of 50\n",
    "as you can see the the elbow is not that pronounced but the retrieved energy increases a lot in the first 50 components\n",
    "\n",
    "![image.png](attachment:image.png)"
   ]
  },
  {
   "attachments": {},
   "cell_type": "markdown",
   "metadata": {},
   "source": [
    "use the elbow method to a portion of the dataset to find the best k with the svd with random projections"
   ]
  },
  {
   "cell_type": "code",
   "execution_count": null,
   "metadata": {},
   "outputs": [],
   "source": [
    "X=readDataset(0.1)"
   ]
  },
  {
   "cell_type": "code",
   "execution_count": null,
   "metadata": {},
   "outputs": [],
   "source": [
    "rp=random_projection.SparseRandomProjection(n_components=600)\n",
    "X_proj=rp.fit_transform(X)\n",
    "randomProjected=True"
   ]
  },
  {
   "cell_type": "code",
   "execution_count": null,
   "metadata": {},
   "outputs": [],
   "source": [
    "elbowMethodSvd(X_proj,1,40,2)"
   ]
  },
  {
   "attachments": {},
   "cell_type": "markdown",
   "metadata": {},
   "source": [
    "apply minibatch k means"
   ]
  },
  {
   "cell_type": "code",
   "execution_count": null,
   "metadata": {},
   "outputs": [],
   "source": [
    "X=readDataset(1)"
   ]
  },
  {
   "cell_type": "code",
   "execution_count": null,
   "metadata": {},
   "outputs": [],
   "source": [
    "miniBatchKMeans(X,20,1000)"
   ]
  },
  {
   "attachments": {},
   "cell_type": "markdown",
   "metadata": {},
   "source": [
    "apply truncated svd"
   ]
  },
  {
   "cell_type": "code",
   "execution_count": null,
   "metadata": {},
   "outputs": [],
   "source": [
    "X=readDataset(1)"
   ]
  },
  {
   "cell_type": "code",
   "execution_count": null,
   "metadata": {},
   "outputs": [],
   "source": [
    "truncatedSVD(X,20)"
   ]
  },
  {
   "attachments": {},
   "cell_type": "markdown",
   "metadata": {},
   "source": [
    "apply random projection and then k means"
   ]
  },
  {
   "cell_type": "code",
   "execution_count": null,
   "metadata": {},
   "outputs": [],
   "source": [
    "X=readDataset(1)"
   ]
  },
  {
   "cell_type": "code",
   "execution_count": null,
   "metadata": {},
   "outputs": [],
   "source": [
    "rp=random_projection.SparseRandomProjection(n_components=600)\n",
    "X_proj=rp.fit_transform(X)\n",
    "randomProjected=True"
   ]
  },
  {
   "cell_type": "code",
   "execution_count": null,
   "metadata": {},
   "outputs": [],
   "source": [
    "miniBatchKMeans(X,20,30000,X_proj)"
   ]
  },
  {
   "attachments": {},
   "cell_type": "markdown",
   "metadata": {},
   "source": [
    "apply random projection and then truncated svd"
   ]
  },
  {
   "cell_type": "code",
   "execution_count": null,
   "metadata": {},
   "outputs": [],
   "source": [
    "X=readDataset(1)"
   ]
  },
  {
   "cell_type": "code",
   "execution_count": null,
   "metadata": {},
   "outputs": [],
   "source": [
    "rp=random_projection.SparseRandomProjection(n_components=600)\n",
    "X_proj=rp.fit_transform(X)\n",
    "randomProjected=True"
   ]
  },
  {
   "cell_type": "code",
   "execution_count": null,
   "metadata": {},
   "outputs": [],
   "source": [
    "truncatedSVD(X,20,X_proj)"
   ]
  },
  {
   "attachments": {},
   "cell_type": "markdown",
   "metadata": {},
   "source": [
    "apply svd and then k means (results are horrible its there just because i used it and saw that nothing would come out of it)\n",
    "its probabily because the svd is not able to keep most of the energy in the first components like for example in the images where most of the energy 90% is kept\n",
    "at the first like 100 components.\n",
    "In this case with 500 components i would retrieve only the 30% of the energy and it's not enought to cluster the data correctly"
   ]
  },
  {
   "cell_type": "code",
   "execution_count": null,
   "metadata": {},
   "outputs": [],
   "source": [
    "X=readDataset(0.01)"
   ]
  },
  {
   "cell_type": "code",
   "execution_count": null,
   "metadata": {},
   "outputs": [],
   "source": [
    "#apply svd to do dimensionality reduction and then k means to classify the data\n",
    "newDimensions=200\n",
    "k=20\n",
    "batchSize=1000\n",
    "svd=TruncatedSVD(n_components=newDimensions)\n",
    "X=svd.fit_transform(X)\n",
    "if batchSize==0:\n",
    "    km=KMeans(n_clusters=k,init='k-means++')\n",
    "else:\n",
    "    km=MiniBatchKMeans(n_clusters=k,batch_size=batchSize,init='k-means++')\n",
    "km.fit(X)\n",
    "centroids=km.cluster_centers_\n",
    "centroids=svd.inverse_transform(centroids).astype(int)\n",
    "terms = vectorizer.get_feature_names_out()\n",
    "for i, comp in enumerate(centroids):\n",
    "    terms_comp = zip(terms, comp)\n",
    "    sorted_terms = sorted(terms_comp, key= lambda x:x[1], reverse=True)[:10]\n",
    "    print(\"Topic \"+str(i)+\": \")\n",
    "    createWordCloud(i[0] for i in sorted_terms)\n",
    "    s = \"\"\n",
    "    for t in sorted_terms:\n",
    "        s += t[0] + \" \"\n",
    "    print(s)\n"
   ]
  },
  {
   "attachments": {},
   "cell_type": "markdown",
   "metadata": {},
   "source": [
    "The best performances are reached using random projection and the the k means algorithm. \n",
    "The random projection acts as noise reduction reducing the dimensionality of the dataset and the k means algorithm is able to find the clusters.\n",
    "Using 100 clusters we can clearly see the topics of the reviews.\n",
    "The performaces are worse if we use less components of the random projection and a smaller batch size."
   ]
  },
  {
   "cell_type": "code",
   "execution_count": null,
   "metadata": {},
   "outputs": [],
   "source": [
    "X=readDataset(1)"
   ]
  },
  {
   "cell_type": "code",
   "execution_count": null,
   "metadata": {},
   "outputs": [],
   "source": [
    "rp=random_projection.SparseRandomProjection(n_components=2000)\n",
    "X_proj=rp.fit_transform(X)\n",
    "randomProjected=True"
   ]
  },
  {
   "cell_type": "code",
   "execution_count": null,
   "metadata": {},
   "outputs": [],
   "source": [
    "miniBatchKMeans(X,100,100000,X_proj)"
   ]
  }
 ],
 "metadata": {
  "kernelspec": {
   "display_name": "Python 3",
   "language": "python",
   "name": "python3"
  },
  "language_info": {
   "codemirror_mode": {
    "name": "ipython",
    "version": 3
   },
   "file_extension": ".py",
   "mimetype": "text/x-python",
   "name": "python",
   "nbconvert_exporter": "python",
   "pygments_lexer": "ipython3",
   "version": "3.9.2 (tags/v3.9.2:1a79785, Feb 19 2021, 13:44:55) [MSC v.1928 64 bit (AMD64)]"
  },
  "orig_nbformat": 4,
  "vscode": {
   "interpreter": {
    "hash": "05c73f36370b37d7956a45e693a83b97388709ec0b54883dc202775cd3dcb887"
   }
  }
 },
 "nbformat": 4,
 "nbformat_minor": 2
}
