{
 "cells": [
  {
   "cell_type": "code",
   "execution_count": null,
   "metadata": {},
   "outputs": [],
   "source": [
    "#read the csv text file\n",
    "import pandas as pd\n",
    "import numpy as np\n",
    "\n",
    "percentage=0.01\n",
    "nRows=3000001\n",
    "nOfRowsToRead=int(nRows*percentage)\n",
    "\n",
    "#read the csv text file\n",
    "df = pd.read_csv('./Books_rating.csv', header=None , nrows=nOfRowsToRead)\n",
    "df=df.to_numpy()\n",
    "\n",
    "header= df[0]\n",
    "data=df[1:]\n",
    "reviews=data[:,-1]\n",
    "\n",
    "print(reviews)\n"
   ]
  }
 ],
 "metadata": {
  "kernelspec": {
   "display_name": "Python 3.11.0 64-bit",
   "language": "python",
   "name": "python3"
  },
  "language_info": {
   "codemirror_mode": {
    "name": "ipython",
    "version": 3
   },
   "file_extension": ".py",
   "mimetype": "text/x-python",
   "name": "python",
   "nbconvert_exporter": "python",
   "pygments_lexer": "ipython3",
   "version": "3.11.0"
  },
  "orig_nbformat": 4,
  "vscode": {
   "interpreter": {
    "hash": "32b23772a312cabd037b51ffca153a178270ce00afd94da1694114bd3650a0bf"
   }
  }
 },
 "nbformat": 4,
 "nbformat_minor": 2
}
