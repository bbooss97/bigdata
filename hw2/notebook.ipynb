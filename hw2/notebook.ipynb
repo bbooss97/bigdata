{
 "cells": [
  {
   "cell_type": "code",
   "execution_count": 660,
   "metadata": {},
   "outputs": [],
   "source": [
    "import pandas as pd\n",
    "import nltk\n",
    "import re\n",
    "import string\n",
    "import random \n",
    "import numpy as np\n",
    "import pickle\n",
    "import scipy"
   ]
  },
  {
   "cell_type": "code",
   "execution_count": 2,
   "metadata": {},
   "outputs": [
    {
     "name": "stderr",
     "output_type": "stream",
     "text": [
      "[nltk_data] Downloading package stopwords to\n",
      "[nltk_data]     C:\\Users\\morel\\AppData\\Roaming\\nltk_data...\n",
      "[nltk_data]   Package stopwords is already up-to-date!\n",
      "[nltk_data] Downloading package wordnet to\n",
      "[nltk_data]     C:\\Users\\morel\\AppData\\Roaming\\nltk_data...\n",
      "[nltk_data]   Package wordnet is already up-to-date!\n",
      "[nltk_data] Downloading package punkt to\n",
      "[nltk_data]     C:\\Users\\morel\\AppData\\Roaming\\nltk_data...\n",
      "[nltk_data]   Package punkt is already up-to-date!\n",
      "[nltk_data] Downloading package omw-1.4 to\n",
      "[nltk_data]     C:\\Users\\morel\\AppData\\Roaming\\nltk_data...\n",
      "[nltk_data]   Package omw-1.4 is already up-to-date!\n"
     ]
    }
   ],
   "source": [
    "#import nltk\n",
    "\n",
    "nltk.download('stopwords')\n",
    "nltk.download('wordnet')\n",
    "nltk.download('punkt')\n",
    "nltk.download('omw-1.4')\n",
    "\n",
    "from nltk.tokenize import word_tokenize #Used to extract words from documents\n",
    "from nltk.stem import WordNetLemmatizer #Used to lemmatize words\n",
    "\n",
    "#import tfidfVectorizer\n",
    "from sklearn.feature_extraction.text import TfidfVectorizer"
   ]
  },
  {
   "cell_type": "code",
   "execution_count": 3,
   "metadata": {},
   "outputs": [],
   "source": [
    "\n",
    "#read data from csv and get the reviews\n",
    "df = pd.read_csv('Reviews.csv')\n",
    "reviews=df[\"Text\"].tolist()\n",
    "#shuffle to later divide in test and training without bias\n",
    "random.shuffle(reviews)"
   ]
  },
  {
   "cell_type": "code",
   "execution_count": 4,
   "metadata": {},
   "outputs": [],
   "source": [
    "#preprocess the reviews\n",
    "contractions_dict = {\n",
    "  \"ain't\": \"am not\",\n",
    "  \"aren't\": \"are not\",\n",
    "  \"can't\": \"cannot\",\n",
    "  \"can't've\": \"cannot have\",\n",
    "  \"'cause\": \"because\",\n",
    "  \"could've\": \"could have\",\n",
    "  \"couldn't\": \"could not\",\n",
    "  \"couldn't've\": \"could not have\",\n",
    "  \"didn't\": \"did not\",\n",
    "  \"doesn't\": \"does not\",\n",
    "  \"don't\": \"do not\",\n",
    "  \"hadn't\": \"had not\",\n",
    "  \"hadn't've\": \"had not have\",\n",
    "  \"hasn't\": \"has not\",\n",
    "  \"haven't\": \"have not\",\n",
    "  \"he'd\": \"he would\",\n",
    "  \"he'd've\": \"he would have\",\n",
    "  \"he'll\": \"he will\",\n",
    "  \"he'll've\": \"he will have\",\n",
    "  \"he's\": \"he is\",\n",
    "  \"how'd\": \"how did\",\n",
    "  \"how'd'y\": \"how do you\",\n",
    "  \"how'll\": \"how will\",\n",
    "  \"how's\": \"how is\",\n",
    "  \"i'd\": \"I would\",\n",
    "  \"i'd've\": \"I would have\",\n",
    "  \"i'll\": \"I will\",\n",
    "  \"i'll've\": \"I will have\",\n",
    "  \"i'm\": \"I am\",\n",
    "  \"i've\": \"I have\",\n",
    "  \"isn't\": \"is not\",\n",
    "  \"it'd\": \"it had\",\n",
    "  \"it'd've\": \"it would have\",\n",
    "  \"it'll\": \"it will\",\n",
    "  \"it'll've\": \"it will have\",\n",
    "  \"it's\": \"it is\",\n",
    "  \"let's\": \"let us\",\n",
    "  \"ma'am\": \"madam\",\n",
    "  \"mayn't\": \"may not\",\n",
    "  \"might've\": \"might have\",\n",
    "  \"mightn't\": \"might not\",\n",
    "  \"mightn't've\": \"might not have\",\n",
    "  \"must've\": \"must have\",\n",
    "  \"mustn't\": \"must not\",\n",
    "  \"mustn't've\": \"must not have\",\n",
    "  \"needn't\": \"need not\",\n",
    "  \"needn't've\": \"need not have\",\n",
    "  \"o'clock\": \"of the clock\",\n",
    "  \"oughtn't\": \"ought not\",\n",
    "  \"oughtn't've\": \"ought not have\",\n",
    "  \"shan't\": \"shall not\",\n",
    "  \"sha'n't\": \"shall not\",\n",
    "  \"shan't've\": \"shall not have\",\n",
    "  \"she'd\": \"she would\",\n",
    "  \"she'd've\": \"she would have\",\n",
    "  \"she'll\": \"she will\",\n",
    "  \"she'll've\": \"she will have\",\n",
    "  \"she's\": \"she is\",\n",
    "  \"should've\": \"should have\",\n",
    "  \"shouldn't\": \"should not\",\n",
    "  \"shouldn't've\": \"should not have\",\n",
    "  \"so've\": \"so have\",\n",
    "  \"so's\": \"so is\",\n",
    "  \"that'd\": \"that would\",\n",
    "  \"that'd've\": \"that would have\",\n",
    "  \"that's\": \"that is\",\n",
    "  \"there'd\": \"there had\",\n",
    "  \"there'd've\": \"there would have\",\n",
    "  \"there's\": \"there is\",\n",
    "  \"they'd\": \"they would\",\n",
    "  \"they'd've\": \"they would have\",\n",
    "  \"they'll\": \"they will\",\n",
    "  \"they'll've\": \"they will have\",\n",
    "  \"they're\": \"they are\",\n",
    "  \"they've\": \"they have\",\n",
    "  \"to've\": \"to have\",\n",
    "  \"wasn't\": \"was not\",\n",
    "  \"we'd\": \"we had\",\n",
    "  \"we'd've\": \"we would have\",\n",
    "  \"we'll\": \"we will\",\n",
    "  \"we'll've\": \"we will have\",\n",
    "  \"we're\": \"we are\",\n",
    "  \"we've\": \"we have\",\n",
    "  \"weren't\": \"were not\",\n",
    "  \"what'll\": \"what will\",\n",
    "  \"what'll've\": \"what will have\",\n",
    "  \"what're\": \"what are\",\n",
    "  \"what's\": \"what is\",\n",
    "  \"what've\": \"what have\",\n",
    "  \"when's\": \"when is\",\n",
    "  \"when've\": \"when have\",\n",
    "  \"where'd\": \"where did\",\n",
    "  \"where's\": \"where is\",\n",
    "  \"where've\": \"where have\",\n",
    "  \"who'll\": \"who will\",\n",
    "  \"who'll've\": \"who will have\",\n",
    "  \"who's\": \"who is\",\n",
    "  \"who've\": \"who have\",\n",
    "  \"why's\": \"why is\",\n",
    "  \"why've\": \"why have\",\n",
    "  \"will've\": \"will have\",\n",
    "  \"won't\": \"will not\",\n",
    "  \"won't've\": \"will not have\",\n",
    "  \"would've\": \"would have\",\n",
    "  \"wouldn't\": \"would not\",\n",
    "  \"wouldn't've\": \"would not have\",\n",
    "  \"y'all\": \"you all\",\n",
    "  \"y'alls\": \"you alls\",\n",
    "  \"y'all'd\": \"you all would\",\n",
    "  \"y'all'd've\": \"you all would have\",\n",
    "  \"y'all're\": \"you all are\",\n",
    "  \"y'all've\": \"you all have\",\n",
    "  \"you'd\": \"you had\",\n",
    "  \"you'd've\": \"you would have\",\n",
    "  \"you'll\": \"you will\",\n",
    "  \"you'll've\": \"you will have\",\n",
    "  \"you're\": \"you are\",\n",
    "  \"you've\": \"you have\"\n",
    "}\n",
    "\n",
    "# Regular expression for finding contractions\n",
    "def multiple_replace(dict, text):\n",
    "  # Create a regular expression  from the dictionary keys\n",
    "  regex = re.compile(\"(%s)\" % \"|\".join(map(re.escape, dict.keys())))\n",
    "\n",
    "  # For each match, look-up corresponding value in dictionary\n",
    "  return regex.sub(lambda mo: dict[mo.string[mo.start():mo.end()]], text)\n",
    "\n",
    "reviews = [multiple_replace(contractions_dict, doc) for doc in reviews]\n",
    "table = str.maketrans('', '', string.punctuation)\n",
    "reviews = [doc.translate(table) for doc in reviews]\n",
    "reviews = [re.sub(r'\\d+', \" \", doc) for doc in reviews]"
   ]
  },
  {
   "cell_type": "code",
   "execution_count": null,
   "metadata": {},
   "outputs": [],
   "source": [
    "def get_lemmatized(doc):\n",
    "  word_list = word_tokenize(doc)\n",
    "  lemmatized_doc = \"\"\n",
    "  for word in word_list:\n",
    "    lemmatized_doc = lemmatized_doc + \" \" + lemmatizer.lemmatize(word)\n",
    "  return lemmatized_doc\n",
    "\n",
    "lemmatizer = WordNetLemmatizer()\n",
    "\n",
    "reviews = [get_lemmatized(doc) for doc in reviews]"
   ]
  },
  {
   "cell_type": "code",
   "execution_count": null,
   "metadata": {},
   "outputs": [],
   "source": [
    "stopwords = nltk.corpus.stopwords.words('english') # Returns a list\n",
    "stopwords = set(stopwords) # We want a set, because this is implemented with a hash table\n",
    "                           # Checking the if condition in rem_stop costs O(1) in this way\n",
    "\n",
    "def rem_stop(doc):\n",
    "   word_list = word_tokenize(doc)\n",
    "   cleaned_doc = \"\"\n",
    "   for word in word_list:\n",
    "     if word not in stopwords:\n",
    "       cleaned_doc += \" \" + word\n",
    "   return cleaned_doc\n",
    "\n",
    "\n",
    "reviews = [rem_stop(doc) for doc in reviews]"
   ]
  },
  {
   "cell_type": "code",
   "execution_count": null,
   "metadata": {},
   "outputs": [],
   "source": [
    "vectorizer = TfidfVectorizer(stop_words='english', min_df=10) ## Corpus is in English\n",
    "X = vectorizer.fit_transform(reviews)"
   ]
  },
  {
   "cell_type": "code",
   "execution_count": null,
   "metadata": {},
   "outputs": [],
   "source": [
    "# #write reviews to file\n",
    "with open('reviews.txt', 'w',encoding='utf8') as f:\n",
    "    for item in reviews:\n",
    "        f.write(item+\",\")"
   ]
  },
  {
   "cell_type": "code",
   "execution_count": null,
   "metadata": {},
   "outputs": [],
   "source": [
    "import pickle\n",
    "#write x to file\n",
    "with open('X.pkl', 'wb') as f:\n",
    "\tpickle.dump(X, f)\n",
    "\n",
    "# read obj from file\n",
    "with open('X.pkl', 'rb') as f:\n",
    "\tobj = pickle.load(f)"
   ]
  },
  {
   "cell_type": "code",
   "execution_count": 957,
   "metadata": {},
   "outputs": [],
   "source": [
    "import pickle\n",
    "#read reviews from file\n",
    "with open('reviews.txt', 'r',encoding='utf8') as f:\n",
    "    reviews = f.read().split(\",\")\n",
    "    reviews = reviews[:-1]\n",
    "\n",
    "#read X from file\n",
    "with open('X.pkl', 'rb') as f:\n",
    "    X = pickle.load(f)\n",
    "\n",
    "rows,cols=X.shape"
   ]
  },
  {
   "cell_type": "code",
   "execution_count": 958,
   "metadata": {},
   "outputs": [
    {
     "data": {
      "text/plain": [
       "(5684, 33897)"
      ]
     },
     "execution_count": 958,
     "metadata": {},
     "output_type": "execute_result"
    }
   ],
   "source": [
    "percentage=0.01\n",
    "reviews=reviews[:int(len(reviews)*percentage)]\n",
    "X=X[:int(X.shape[0]*percentage)]\n",
    "X.shape\n"
   ]
  },
  {
   "cell_type": "code",
   "execution_count": 959,
   "metadata": {},
   "outputs": [],
   "source": [
    "class Operations: \n",
    "\n",
    "    def generateU():\n",
    "        u=np.random.normal(0,1,cols)\n",
    "        u=scipy.sparse.csr_matrix(u)\n",
    "        return u\n",
    "\n",
    "    def sparseProduct(x,y):\n",
    "        return x.dot(y.transpose()).toarray()[0][0]\n",
    "\n",
    "    def h(x,u):\n",
    "        return np.sign(Operations.sparseProduct(x,u))\n",
    "\n",
    "    def cosineSimilarity(x,y):\n",
    "        r=Operations.sparseProduct(x,y)/(np.linalg.norm(x.toarray())*np.linalg.norm(y.toarray()))\n",
    "        return r\n",
    "\n",
    "    def jaccardSimilarity(x,y):\n",
    "        intersection=len(x.intersection(y))\n",
    "        union=len(x.union(y))\n",
    "        return intersection/union\n",
    "\n",
    "\n",
    "\n"
   ]
  },
  {
   "cell_type": "code",
   "execution_count": 960,
   "metadata": {},
   "outputs": [],
   "source": [
    "class Hash:\n",
    "\n",
    "    def __init__(self,nBytes=10,inputDimension=10):\n",
    "        self.nBytes=nBytes\n",
    "        self.inputDimension=inputDimension\n",
    "        self.reset()\n",
    "    \n",
    "    def reset(self):\n",
    "        self.matrix=np.random.randn(self.nBytes,self.inputDimension)\n",
    "\n",
    "    def generateHash(self,input):\n",
    "        if type(input)==list:\n",
    "            input=np.array(input)\n",
    "        signature= np.abs((self.matrix @ input.T ).astype(\"int\"))\n",
    "        signature=\"\".join(signature.squeeze().astype(\"str\"))\n",
    "        return int(signature)\n",
    "h=Hash()\n"
   ]
  },
  {
   "cell_type": "code",
   "execution_count": 961,
   "metadata": {},
   "outputs": [
    {
     "data": {
      "text/plain": [
       "132023033"
      ]
     },
     "execution_count": 961,
     "metadata": {},
     "output_type": "execute_result"
    }
   ],
   "source": [
    "h.generateHash(np.ones(10))"
   ]
  },
  {
   "cell_type": "code",
   "execution_count": 962,
   "metadata": {},
   "outputs": [],
   "source": [
    "\n",
    "class Lsh:\n",
    "\n",
    "    def __init__(self,X,reviews,b=10,r=10,testPercentage=0.005,nHashes=100):\n",
    "        self.X=X\n",
    "        self.reviews=reviews\n",
    "        self.rows=X.shape[0]\n",
    "        self.cols=X.shape[1]\n",
    "        self.b=b\n",
    "        self.r=r\n",
    "        self.testPercentage=testPercentage\n",
    "        self.nHashes=nHashes\n",
    "        self.splitDataset()\n",
    "\n",
    "    def setBR(self,b,r):\n",
    "        self.b=b\n",
    "        self.r=r\n",
    "        \n",
    "    def splitDataset(self):\n",
    "        indexSplit=int(self.rows*self.testPercentage)\n",
    "        self.testReviews,self.trainReviews=self.reviews[:indexSplit],self.reviews[indexSplit:]\n",
    "        self.testX,self.trainX=self.X[:indexSplit],self.X[indexSplit:]\n",
    "        self.rowsTest,self.colsTest=self.testX.shape\n",
    "        self.rowsTrain,self.colsTrain=self.trainX.shape\n",
    "\n",
    "    def generateM(self):\n",
    "        self.mTest=[[]for i in range(self.rowsTest)]\n",
    "        self.mTrain=[[]for i in range(self.rowsTrain)]\n",
    "        #create the matrix m\n",
    "        for i in range(self.nHashes):\n",
    "            u=Operations.generateU()\n",
    "            #first the test then the train with the same u generated\n",
    "            for j in range(self.rowsTest):\n",
    "                h=Operations.h(self.testX[j],u)\n",
    "                self.mTest[j].append(h)\n",
    "            for j in range(self.rowsTrain):\n",
    "                h=Operations.h(self.trainX[j],u)\n",
    "                self.mTrain[j].append(h)\n",
    "\n",
    "    def lsh(self):\n",
    "        self.dicts=[{} for i in range(self.b)]\n",
    "        self.hashesUsed=[Hash(inputDimension=self.r) for i in range(self.b)]\n",
    "        for i in range(self.b):\n",
    "            for j in range(self.rowsTrain):\n",
    "                # print(i,j)\n",
    "                v=self.mTrain[j][i*self.r:(i+1)*self.r]\n",
    "                key=self.hashesUsed[i].generateHash(v)\n",
    "                if key not in self.dicts[i]:\n",
    "                    self.dicts[i][key]=set()\n",
    "                self.dicts[i][key].add(j)\n",
    "\n",
    "    def findExactCosineSimilars(self,threshold=0.5):\n",
    "        self.exactSimilars={}\n",
    "        # mean=0\n",
    "        for i,v in enumerate(self.testX):\n",
    "            print(i)\n",
    "            for j,u in enumerate(self.trainX):\n",
    "                r=Operations.cosineSimilarity(v,u)\n",
    "                # mean+=r\n",
    "                if r>=threshold:\n",
    "                    if i not in self.exactSimilars:\n",
    "                        self.exactSimilars[i]=set()\n",
    "                    self.exactSimilars[i].add(j)\n",
    "        # mean=mean/(self.rowsTest*self.rowsTrain)\n",
    "        # print(mean)\n",
    "        return self.exactSimilars\n",
    "\n",
    "\n",
    "    def findCosineSimilarsApproximated(self,threshold=0.8):\n",
    "        # self.generateM()\n",
    "        # self.lsh()\n",
    "        self.approximatedSimilars={}\n",
    "        for i,v in enumerate(self.mTest):\n",
    "            for j,hash in enumerate(self.hashesUsed):\n",
    "                key=hash.generateHash(v[i*self.r:(i+1)*self.r])\n",
    "                if key in self.dicts[j]:\n",
    "                    for k in self.dicts[j][key]:\n",
    "                        if i not in self.approximatedSimilars:\n",
    "                            self.approximatedSimilars[i]=set()\n",
    "                        self.approximatedSimilars[i].add(k)\n",
    "        return self.approximatedSimilars\n"
   ]
  },
  {
   "cell_type": "code",
   "execution_count": 943,
   "metadata": {},
   "outputs": [
    {
     "data": {
      "text/plain": [
       "(5684, 33897)"
      ]
     },
     "execution_count": 943,
     "metadata": {},
     "output_type": "execute_result"
    }
   ],
   "source": [
    "X.shape\n"
   ]
  },
  {
   "cell_type": "code",
   "execution_count": 976,
   "metadata": {},
   "outputs": [],
   "source": [
    "lsh=Lsh(X,reviews,nHashes=100,r=2,b=50)\n"
   ]
  },
  {
   "cell_type": "code",
   "execution_count": 945,
   "metadata": {},
   "outputs": [
    {
     "data": {
      "text/plain": [
       "(28, 33897)"
      ]
     },
     "execution_count": 945,
     "metadata": {},
     "output_type": "execute_result"
    }
   ],
   "source": [
    "lsh.testX.shape"
   ]
  },
  {
   "cell_type": "code",
   "execution_count": 969,
   "metadata": {},
   "outputs": [
    {
     "name": "stdout",
     "output_type": "stream",
     "text": [
      "0\n",
      "1\n",
      "2\n",
      "3\n",
      "4\n",
      "5\n",
      "6\n",
      "7\n",
      "8\n",
      "9\n",
      "10\n",
      "11\n",
      "12\n",
      "13\n",
      "14\n",
      "15\n",
      "16\n",
      "17\n",
      "18\n",
      "19\n",
      "20\n",
      "21\n",
      "22\n",
      "23\n",
      "24\n",
      "25\n",
      "26\n",
      "27\n"
     ]
    },
    {
     "data": {
      "text/plain": [
       "{12: {3629, 5040, 5555, 5560}, 18: {249, 5584}, 22: {5264}}"
      ]
     },
     "execution_count": 969,
     "metadata": {},
     "output_type": "execute_result"
    }
   ],
   "source": [
    "lsh.findExactCosineSimilars(0.5)"
   ]
  },
  {
   "cell_type": "code",
   "execution_count": 964,
   "metadata": {},
   "outputs": [],
   "source": [
    "lsh.generateM()"
   ]
  },
  {
   "cell_type": "code",
   "execution_count": 965,
   "metadata": {},
   "outputs": [],
   "source": [
    "mTest=lsh.mTest\n",
    "mTrain=lsh.mTrain\n"
   ]
  },
  {
   "cell_type": "code",
   "execution_count": 977,
   "metadata": {},
   "outputs": [],
   "source": [
    "lsh.mTest=mTest\n",
    "lsh.mTrain=mTrain"
   ]
  },
  {
   "cell_type": "code",
   "execution_count": 986,
   "metadata": {},
   "outputs": [],
   "source": [
    "lsh.r=4\n",
    "lsh.b=19\n",
    "\n",
    "lsh.lsh()\n"
   ]
  },
  {
   "cell_type": "code",
   "execution_count": 987,
   "metadata": {},
   "outputs": [
    {
     "ename": "ValueError",
     "evalue": "matmul: Input operand 1 has a mismatch in its core dimension 0, with gufunc signature (n?,k),(k,m?)->(n?,m?) (size 0 is different from 4)",
     "output_type": "error",
     "traceback": [
      "\u001b[1;31m---------------------------------------------------------------------------\u001b[0m",
      "\u001b[1;31mValueError\u001b[0m                                Traceback (most recent call last)",
      "\u001b[1;32mc:\\Users\\Andrea\\Desktop\\bigdata\\hw2\\notebook.ipynb Cell 24\u001b[0m in \u001b[0;36m<cell line: 1>\u001b[1;34m()\u001b[0m\n\u001b[1;32m----> <a href='vscode-notebook-cell:/c%3A/Users/Andrea/Desktop/bigdata/hw2/notebook.ipynb#X42sZmlsZQ%3D%3D?line=0'>1</a>\u001b[0m lsh\u001b[39m.\u001b[39;49mfindCosineSimilarsApproximated(\u001b[39m0.125\u001b[39;49m)\n",
      "\u001b[1;32mc:\\Users\\Andrea\\Desktop\\bigdata\\hw2\\notebook.ipynb Cell 24\u001b[0m in \u001b[0;36mLsh.findCosineSimilarsApproximated\u001b[1;34m(self, threshold)\u001b[0m\n\u001b[0;32m     <a href='vscode-notebook-cell:/c%3A/Users/Andrea/Desktop/bigdata/hw2/notebook.ipynb#X42sZmlsZQ%3D%3D?line=71'>72</a>\u001b[0m \u001b[39mfor\u001b[39;00m i,v \u001b[39min\u001b[39;00m \u001b[39menumerate\u001b[39m(\u001b[39mself\u001b[39m\u001b[39m.\u001b[39mmTest):\n\u001b[0;32m     <a href='vscode-notebook-cell:/c%3A/Users/Andrea/Desktop/bigdata/hw2/notebook.ipynb#X42sZmlsZQ%3D%3D?line=72'>73</a>\u001b[0m     \u001b[39mfor\u001b[39;00m j,\u001b[39mhash\u001b[39m \u001b[39min\u001b[39;00m \u001b[39menumerate\u001b[39m(\u001b[39mself\u001b[39m\u001b[39m.\u001b[39mhashesUsed):\n\u001b[1;32m---> <a href='vscode-notebook-cell:/c%3A/Users/Andrea/Desktop/bigdata/hw2/notebook.ipynb#X42sZmlsZQ%3D%3D?line=73'>74</a>\u001b[0m         key\u001b[39m=\u001b[39m\u001b[39mhash\u001b[39;49m\u001b[39m.\u001b[39;49mgenerateHash(v[i\u001b[39m*\u001b[39;49m\u001b[39mself\u001b[39;49m\u001b[39m.\u001b[39;49mr:(i\u001b[39m+\u001b[39;49m\u001b[39m1\u001b[39;49m)\u001b[39m*\u001b[39;49m\u001b[39mself\u001b[39;49m\u001b[39m.\u001b[39;49mr])\n\u001b[0;32m     <a href='vscode-notebook-cell:/c%3A/Users/Andrea/Desktop/bigdata/hw2/notebook.ipynb#X42sZmlsZQ%3D%3D?line=74'>75</a>\u001b[0m         \u001b[39mif\u001b[39;00m key \u001b[39min\u001b[39;00m \u001b[39mself\u001b[39m\u001b[39m.\u001b[39mdicts[j]:\n\u001b[0;32m     <a href='vscode-notebook-cell:/c%3A/Users/Andrea/Desktop/bigdata/hw2/notebook.ipynb#X42sZmlsZQ%3D%3D?line=75'>76</a>\u001b[0m             \u001b[39mfor\u001b[39;00m k \u001b[39min\u001b[39;00m \u001b[39mself\u001b[39m\u001b[39m.\u001b[39mdicts[j][key]:\n",
      "\u001b[1;32mc:\\Users\\Andrea\\Desktop\\bigdata\\hw2\\notebook.ipynb Cell 24\u001b[0m in \u001b[0;36mHash.generateHash\u001b[1;34m(self, input)\u001b[0m\n\u001b[0;32m     <a href='vscode-notebook-cell:/c%3A/Users/Andrea/Desktop/bigdata/hw2/notebook.ipynb#X42sZmlsZQ%3D%3D?line=11'>12</a>\u001b[0m \u001b[39mif\u001b[39;00m \u001b[39mtype\u001b[39m(\u001b[39minput\u001b[39m)\u001b[39m==\u001b[39m\u001b[39mlist\u001b[39m:\n\u001b[0;32m     <a href='vscode-notebook-cell:/c%3A/Users/Andrea/Desktop/bigdata/hw2/notebook.ipynb#X42sZmlsZQ%3D%3D?line=12'>13</a>\u001b[0m     \u001b[39minput\u001b[39m\u001b[39m=\u001b[39mnp\u001b[39m.\u001b[39marray(\u001b[39minput\u001b[39m)\n\u001b[1;32m---> <a href='vscode-notebook-cell:/c%3A/Users/Andrea/Desktop/bigdata/hw2/notebook.ipynb#X42sZmlsZQ%3D%3D?line=13'>14</a>\u001b[0m signature\u001b[39m=\u001b[39m np\u001b[39m.\u001b[39mabs((\u001b[39mself\u001b[39;49m\u001b[39m.\u001b[39;49mmatrix \u001b[39m@\u001b[39;49m \u001b[39minput\u001b[39;49m\u001b[39m.\u001b[39;49mT )\u001b[39m.\u001b[39mastype(\u001b[39m\"\u001b[39m\u001b[39mint\u001b[39m\u001b[39m\"\u001b[39m))\n\u001b[0;32m     <a href='vscode-notebook-cell:/c%3A/Users/Andrea/Desktop/bigdata/hw2/notebook.ipynb#X42sZmlsZQ%3D%3D?line=14'>15</a>\u001b[0m signature\u001b[39m=\u001b[39m\u001b[39m\"\u001b[39m\u001b[39m\"\u001b[39m\u001b[39m.\u001b[39mjoin(signature\u001b[39m.\u001b[39msqueeze()\u001b[39m.\u001b[39mastype(\u001b[39m\"\u001b[39m\u001b[39mstr\u001b[39m\u001b[39m\"\u001b[39m))\n\u001b[0;32m     <a href='vscode-notebook-cell:/c%3A/Users/Andrea/Desktop/bigdata/hw2/notebook.ipynb#X42sZmlsZQ%3D%3D?line=15'>16</a>\u001b[0m \u001b[39mreturn\u001b[39;00m \u001b[39mint\u001b[39m(signature)\n",
      "\u001b[1;31mValueError\u001b[0m: matmul: Input operand 1 has a mismatch in its core dimension 0, with gufunc signature (n?,k),(k,m?)->(n?,m?) (size 0 is different from 4)"
     ]
    }
   ],
   "source": [
    "lsh.findCosineSimilarsApproximated(0.125)\n"
   ]
  }
 ],
 "metadata": {
  "kernelspec": {
   "display_name": "Python 3.10.0 64-bit",
   "language": "python",
   "name": "python3"
  },
  "language_info": {
   "codemirror_mode": {
    "name": "ipython",
    "version": 3
   },
   "file_extension": ".py",
   "mimetype": "text/x-python",
   "name": "python",
   "nbconvert_exporter": "python",
   "pygments_lexer": "ipython3",
   "version": "3.10.0"
  },
  "orig_nbformat": 4,
  "vscode": {
   "interpreter": {
    "hash": "64d513b1a87d07c6464cdacba50c5010a19b1553f5ba782d4f0aaec460faf0d2"
   }
  }
 },
 "nbformat": 4,
 "nbformat_minor": 2
}
